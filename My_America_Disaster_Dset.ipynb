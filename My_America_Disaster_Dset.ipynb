{
 "cells": [
  {
   "cell_type": "markdown",
   "id": "83366bc1-af40-4491-9b63-184e8f0cd554",
   "metadata": {},
   "source": [
    "America_Disaster_Dataset"
   ]
  },
  {
   "cell_type": "markdown",
   "id": "e82dd5f5-1893-46fc-bc61-34e5e28f758b",
   "metadata": {},
   "source": [
    "Name= Sarfraz Ali\n",
    "Roll no= 2K22/CSE/94"
   ]
  },
  {
   "cell_type": "code",
   "execution_count": null,
   "id": "8869c7f2-835c-46eb-ac7f-a08c0b0540d8",
   "metadata": {},
   "outputs": [],
   "source": [
    "#IMPORT LIBRARIES AND PAKAGES"
   ]
  },
  {
   "cell_type": "code",
   "execution_count": 65,
   "id": "edb0b1e3-7ee1-4079-8ea2-161f29a66e15",
   "metadata": {},
   "outputs": [],
   "source": [
    "import pandas as pd\n",
    "import numpy as np\n",
    "import matplotlib.pyplot as plt\n",
    "import seaborn as sns\n",
    "from sklearn.model_selection import train_test_split\n",
    "from pandas.core.common import random_state\n",
    "from sklearn.linear_model import LinearRegression"
   ]
  },
  {
   "cell_type": "code",
   "execution_count": null,
   "id": "0446812d-360a-4871-95cc-f1940de629ec",
   "metadata": {},
   "outputs": [],
   "source": [
    "#USE OF PANDAS"
   ]
  },
  {
   "cell_type": "code",
   "execution_count": 104,
   "id": "06848a9e-0d2e-40fe-8f0c-0d81416ac6f8",
   "metadata": {},
   "outputs": [],
   "source": [
    "df=pd.read_csv('Am_Disaster_dataset.csv')         "
   ]
  },
  {
   "cell_type": "code",
   "execution_count": 14,
   "id": "48ae23a7-ce6b-4f24-98ff-93c57d06b57a",
   "metadata": {},
   "outputs": [
    {
     "data": {
      "text/plain": [
       "(338, 6)"
      ]
     },
     "execution_count": 14,
     "metadata": {},
     "output_type": "execute_result"
    }
   ],
   "source": [
    "df.shape"
   ]
  },
  {
   "cell_type": "code",
   "execution_count": 8,
   "id": "f41f17d2-b93d-4470-a1bf-0d93753c636d",
   "metadata": {},
   "outputs": [
    {
     "data": {
      "text/html": [
       "<div>\n",
       "<style scoped>\n",
       "    .dataframe tbody tr th:only-of-type {\n",
       "        vertical-align: middle;\n",
       "    }\n",
       "\n",
       "    .dataframe tbody tr th {\n",
       "        vertical-align: top;\n",
       "    }\n",
       "\n",
       "    .dataframe thead th {\n",
       "        text-align: right;\n",
       "    }\n",
       "</style>\n",
       "<table border=\"1\" class=\"dataframe\">\n",
       "  <thead>\n",
       "    <tr style=\"text-align: right;\">\n",
       "      <th></th>\n",
       "      <th>Name</th>\n",
       "      <th>Disaster</th>\n",
       "      <th>Begin Date</th>\n",
       "      <th>End Date</th>\n",
       "      <th>Total loss Cost (Millions of Dollars)</th>\n",
       "      <th>Deaths</th>\n",
       "    </tr>\n",
       "  </thead>\n",
       "  <tbody>\n",
       "    <tr>\n",
       "      <th>0</th>\n",
       "      <td>Southern Severe Storms and Flooding (April 1980)</td>\n",
       "      <td>Flooding</td>\n",
       "      <td>4/10/1980</td>\n",
       "      <td>4/17/1980</td>\n",
       "      <td>2551.4</td>\n",
       "      <td>7</td>\n",
       "    </tr>\n",
       "    <tr>\n",
       "      <th>1</th>\n",
       "      <td>Hurricane Allen (August 1980)</td>\n",
       "      <td>Tropical Cyclone</td>\n",
       "      <td>8/7/1980</td>\n",
       "      <td>8/11/1980</td>\n",
       "      <td>2071.0</td>\n",
       "      <td>13</td>\n",
       "    </tr>\n",
       "    <tr>\n",
       "      <th>2</th>\n",
       "      <td>Central/Eastern Drought/Heat Wave (Summer-Fall...</td>\n",
       "      <td>Drought</td>\n",
       "      <td>6/1/1980</td>\n",
       "      <td>11/30/1980</td>\n",
       "      <td>37675.2</td>\n",
       "      <td>1260</td>\n",
       "    </tr>\n",
       "    <tr>\n",
       "      <th>3</th>\n",
       "      <td>Florida Freeze (January 1981)</td>\n",
       "      <td>Freeze</td>\n",
       "      <td>1/12/1981</td>\n",
       "      <td>1/14/1981</td>\n",
       "      <td>1921.9</td>\n",
       "      <td>0</td>\n",
       "    </tr>\n",
       "    <tr>\n",
       "      <th>4</th>\n",
       "      <td>Severe Storms, Flash Floods, Hail, Tornadoes (...</td>\n",
       "      <td>Severe Storm</td>\n",
       "      <td>5/5/1981</td>\n",
       "      <td>5/10/1981</td>\n",
       "      <td>1304.7</td>\n",
       "      <td>20</td>\n",
       "    </tr>\n",
       "    <tr>\n",
       "      <th>...</th>\n",
       "      <td>...</td>\n",
       "      <td>...</td>\n",
       "      <td>...</td>\n",
       "      <td>...</td>\n",
       "      <td>...</td>\n",
       "      <td>...</td>\n",
       "    </tr>\n",
       "    <tr>\n",
       "      <th>333</th>\n",
       "      <td>Kentucky and Missouri Flooding (July 2022)</td>\n",
       "      <td>Flooding</td>\n",
       "      <td>7/26/2022</td>\n",
       "      <td>7/28/2022</td>\n",
       "      <td>1195.0</td>\n",
       "      <td>42</td>\n",
       "    </tr>\n",
       "    <tr>\n",
       "      <th>334</th>\n",
       "      <td>Hurricane Fiona (September 2022)</td>\n",
       "      <td>Tropical Cyclone</td>\n",
       "      <td>9/17/2022</td>\n",
       "      <td>9/18/2022</td>\n",
       "      <td>2178.0</td>\n",
       "      <td>25</td>\n",
       "    </tr>\n",
       "    <tr>\n",
       "      <th>335</th>\n",
       "      <td>Western Wildfires (Spring-Fall 2022)</td>\n",
       "      <td>Wildfire</td>\n",
       "      <td>4/1/2022</td>\n",
       "      <td>9/30/2022</td>\n",
       "      <td>1324.0</td>\n",
       "      <td>17</td>\n",
       "    </tr>\n",
       "    <tr>\n",
       "      <th>336</th>\n",
       "      <td>Western/Southern Plains Drought and Heat Wave ...</td>\n",
       "      <td>Drought</td>\n",
       "      <td>1/1/2022</td>\n",
       "      <td>9/30/2022</td>\n",
       "      <td>9326.7</td>\n",
       "      <td>117</td>\n",
       "    </tr>\n",
       "    <tr>\n",
       "      <th>337</th>\n",
       "      <td>Hurricane Ian (September 2022)</td>\n",
       "      <td>Tropical Cyclone</td>\n",
       "      <td>9/28/2022</td>\n",
       "      <td>9/30/2022</td>\n",
       "      <td>3189.0</td>\n",
       "      <td>131</td>\n",
       "    </tr>\n",
       "  </tbody>\n",
       "</table>\n",
       "<p>338 rows × 6 columns</p>\n",
       "</div>"
      ],
      "text/plain": [
       "                                                  Name          Disaster  \\\n",
       "0     Southern Severe Storms and Flooding (April 1980)          Flooding   \n",
       "1                        Hurricane Allen (August 1980)  Tropical Cyclone   \n",
       "2    Central/Eastern Drought/Heat Wave (Summer-Fall...           Drought   \n",
       "3                        Florida Freeze (January 1981)            Freeze   \n",
       "4    Severe Storms, Flash Floods, Hail, Tornadoes (...      Severe Storm   \n",
       "..                                                 ...               ...   \n",
       "333         Kentucky and Missouri Flooding (July 2022)          Flooding   \n",
       "334                   Hurricane Fiona (September 2022)  Tropical Cyclone   \n",
       "335               Western Wildfires (Spring-Fall 2022)          Wildfire   \n",
       "336  Western/Southern Plains Drought and Heat Wave ...           Drought   \n",
       "337                     Hurricane Ian (September 2022)  Tropical Cyclone   \n",
       "\n",
       "    Begin Date    End Date  Total loss Cost (Millions of Dollars)  Deaths  \n",
       "0    4/10/1980   4/17/1980                                 2551.4       7  \n",
       "1     8/7/1980   8/11/1980                                 2071.0      13  \n",
       "2     6/1/1980  11/30/1980                                37675.2    1260  \n",
       "3    1/12/1981   1/14/1981                                 1921.9       0  \n",
       "4     5/5/1981   5/10/1981                                 1304.7      20  \n",
       "..         ...         ...                                    ...     ...  \n",
       "333  7/26/2022   7/28/2022                                 1195.0      42  \n",
       "334  9/17/2022   9/18/2022                                 2178.0      25  \n",
       "335   4/1/2022   9/30/2022                                 1324.0      17  \n",
       "336   1/1/2022   9/30/2022                                 9326.7     117  \n",
       "337  9/28/2022   9/30/2022                                 3189.0     131  \n",
       "\n",
       "[338 rows x 6 columns]"
      ]
     },
     "execution_count": 8,
     "metadata": {},
     "output_type": "execute_result"
    }
   ],
   "source": [
    "df"
   ]
  },
  {
   "cell_type": "code",
   "execution_count": 20,
   "id": "36b51e24-7402-4fef-8332-856aff48bc1c",
   "metadata": {},
   "outputs": [
    {
     "data": {
      "text/plain": [
       "Name                                      object\n",
       "Disaster                                  object\n",
       "Begin Date                                object\n",
       "End Date                                  object\n",
       "Total loss Cost (Millions of Dollars)    float64\n",
       "Deaths                                     int64\n",
       "dtype: object"
      ]
     },
     "execution_count": 20,
     "metadata": {},
     "output_type": "execute_result"
    }
   ],
   "source": [
    "df.dtypes"
   ]
  },
  {
   "cell_type": "code",
   "execution_count": 9,
   "id": "1ebbce1b-09f1-4574-b361-32ea39845a16",
   "metadata": {},
   "outputs": [
    {
     "data": {
      "text/html": [
       "<div>\n",
       "<style scoped>\n",
       "    .dataframe tbody tr th:only-of-type {\n",
       "        vertical-align: middle;\n",
       "    }\n",
       "\n",
       "    .dataframe tbody tr th {\n",
       "        vertical-align: top;\n",
       "    }\n",
       "\n",
       "    .dataframe thead th {\n",
       "        text-align: right;\n",
       "    }\n",
       "</style>\n",
       "<table border=\"1\" class=\"dataframe\">\n",
       "  <thead>\n",
       "    <tr style=\"text-align: right;\">\n",
       "      <th></th>\n",
       "      <th>Name</th>\n",
       "      <th>Disaster</th>\n",
       "      <th>Begin Date</th>\n",
       "      <th>End Date</th>\n",
       "      <th>Total loss Cost (Millions of Dollars)</th>\n",
       "      <th>Deaths</th>\n",
       "    </tr>\n",
       "  </thead>\n",
       "  <tbody>\n",
       "    <tr>\n",
       "      <th>0</th>\n",
       "      <td>Southern Severe Storms and Flooding (April 1980)</td>\n",
       "      <td>Flooding</td>\n",
       "      <td>4/10/1980</td>\n",
       "      <td>4/17/1980</td>\n",
       "      <td>2551.4</td>\n",
       "      <td>7</td>\n",
       "    </tr>\n",
       "    <tr>\n",
       "      <th>1</th>\n",
       "      <td>Hurricane Allen (August 1980)</td>\n",
       "      <td>Tropical Cyclone</td>\n",
       "      <td>8/7/1980</td>\n",
       "      <td>8/11/1980</td>\n",
       "      <td>2071.0</td>\n",
       "      <td>13</td>\n",
       "    </tr>\n",
       "    <tr>\n",
       "      <th>2</th>\n",
       "      <td>Central/Eastern Drought/Heat Wave (Summer-Fall...</td>\n",
       "      <td>Drought</td>\n",
       "      <td>6/1/1980</td>\n",
       "      <td>11/30/1980</td>\n",
       "      <td>37675.2</td>\n",
       "      <td>1260</td>\n",
       "    </tr>\n",
       "    <tr>\n",
       "      <th>3</th>\n",
       "      <td>Florida Freeze (January 1981)</td>\n",
       "      <td>Freeze</td>\n",
       "      <td>1/12/1981</td>\n",
       "      <td>1/14/1981</td>\n",
       "      <td>1921.9</td>\n",
       "      <td>0</td>\n",
       "    </tr>\n",
       "    <tr>\n",
       "      <th>4</th>\n",
       "      <td>Severe Storms, Flash Floods, Hail, Tornadoes (...</td>\n",
       "      <td>Severe Storm</td>\n",
       "      <td>5/5/1981</td>\n",
       "      <td>5/10/1981</td>\n",
       "      <td>1304.7</td>\n",
       "      <td>20</td>\n",
       "    </tr>\n",
       "  </tbody>\n",
       "</table>\n",
       "</div>"
      ],
      "text/plain": [
       "                                                Name          Disaster  \\\n",
       "0   Southern Severe Storms and Flooding (April 1980)          Flooding   \n",
       "1                      Hurricane Allen (August 1980)  Tropical Cyclone   \n",
       "2  Central/Eastern Drought/Heat Wave (Summer-Fall...           Drought   \n",
       "3                      Florida Freeze (January 1981)            Freeze   \n",
       "4  Severe Storms, Flash Floods, Hail, Tornadoes (...      Severe Storm   \n",
       "\n",
       "  Begin Date    End Date  Total loss Cost (Millions of Dollars)  Deaths  \n",
       "0  4/10/1980   4/17/1980                                 2551.4       7  \n",
       "1   8/7/1980   8/11/1980                                 2071.0      13  \n",
       "2   6/1/1980  11/30/1980                                37675.2    1260  \n",
       "3  1/12/1981   1/14/1981                                 1921.9       0  \n",
       "4   5/5/1981   5/10/1981                                 1304.7      20  "
      ]
     },
     "execution_count": 9,
     "metadata": {},
     "output_type": "execute_result"
    }
   ],
   "source": [
    "df.head()"
   ]
  },
  {
   "cell_type": "code",
   "execution_count": 11,
   "id": "f759aab2-32d8-4330-8e04-0e9b72fe02b1",
   "metadata": {},
   "outputs": [
    {
     "data": {
      "text/html": [
       "<div>\n",
       "<style scoped>\n",
       "    .dataframe tbody tr th:only-of-type {\n",
       "        vertical-align: middle;\n",
       "    }\n",
       "\n",
       "    .dataframe tbody tr th {\n",
       "        vertical-align: top;\n",
       "    }\n",
       "\n",
       "    .dataframe thead th {\n",
       "        text-align: right;\n",
       "    }\n",
       "</style>\n",
       "<table border=\"1\" class=\"dataframe\">\n",
       "  <thead>\n",
       "    <tr style=\"text-align: right;\">\n",
       "      <th></th>\n",
       "      <th>Name</th>\n",
       "      <th>Disaster</th>\n",
       "      <th>Begin Date</th>\n",
       "      <th>End Date</th>\n",
       "      <th>Total loss Cost (Millions of Dollars)</th>\n",
       "      <th>Deaths</th>\n",
       "    </tr>\n",
       "  </thead>\n",
       "  <tbody>\n",
       "    <tr>\n",
       "      <th>0</th>\n",
       "      <td>Southern Severe Storms and Flooding (April 1980)</td>\n",
       "      <td>Flooding</td>\n",
       "      <td>4/10/1980</td>\n",
       "      <td>4/17/1980</td>\n",
       "      <td>2551.4</td>\n",
       "      <td>7</td>\n",
       "    </tr>\n",
       "    <tr>\n",
       "      <th>1</th>\n",
       "      <td>Hurricane Allen (August 1980)</td>\n",
       "      <td>Tropical Cyclone</td>\n",
       "      <td>8/7/1980</td>\n",
       "      <td>8/11/1980</td>\n",
       "      <td>2071.0</td>\n",
       "      <td>13</td>\n",
       "    </tr>\n",
       "    <tr>\n",
       "      <th>2</th>\n",
       "      <td>Central/Eastern Drought/Heat Wave (Summer-Fall...</td>\n",
       "      <td>Drought</td>\n",
       "      <td>6/1/1980</td>\n",
       "      <td>11/30/1980</td>\n",
       "      <td>37675.2</td>\n",
       "      <td>1260</td>\n",
       "    </tr>\n",
       "    <tr>\n",
       "      <th>3</th>\n",
       "      <td>Florida Freeze (January 1981)</td>\n",
       "      <td>Freeze</td>\n",
       "      <td>1/12/1981</td>\n",
       "      <td>1/14/1981</td>\n",
       "      <td>1921.9</td>\n",
       "      <td>0</td>\n",
       "    </tr>\n",
       "    <tr>\n",
       "      <th>4</th>\n",
       "      <td>Severe Storms, Flash Floods, Hail, Tornadoes (...</td>\n",
       "      <td>Severe Storm</td>\n",
       "      <td>5/5/1981</td>\n",
       "      <td>5/10/1981</td>\n",
       "      <td>1304.7</td>\n",
       "      <td>20</td>\n",
       "    </tr>\n",
       "    <tr>\n",
       "      <th>5</th>\n",
       "      <td>Midwest/Southeast/Northeast Winter Storm, Cold...</td>\n",
       "      <td>Winter Storm</td>\n",
       "      <td>1/8/1982</td>\n",
       "      <td>1/16/1982</td>\n",
       "      <td>2052.4</td>\n",
       "      <td>85</td>\n",
       "    </tr>\n",
       "    <tr>\n",
       "      <th>6</th>\n",
       "      <td>Midwest/Plains/Southeast Tornadoes (April 1982)</td>\n",
       "      <td>Severe Storm</td>\n",
       "      <td>4/2/1982</td>\n",
       "      <td>4/4/1982</td>\n",
       "      <td>1488.4</td>\n",
       "      <td>33</td>\n",
       "    </tr>\n",
       "    <tr>\n",
       "      <th>7</th>\n",
       "      <td>Severe Storms (June 1982)</td>\n",
       "      <td>Severe Storm</td>\n",
       "      <td>5/31/1982</td>\n",
       "      <td>6/10/1982</td>\n",
       "      <td>1464.1</td>\n",
       "      <td>30</td>\n",
       "    </tr>\n",
       "    <tr>\n",
       "      <th>8</th>\n",
       "      <td>Gulf States Storms and Flooding (December 1982...</td>\n",
       "      <td>Flooding</td>\n",
       "      <td>1982-12-0</td>\n",
       "      <td>1/15/1983</td>\n",
       "      <td>4577.5</td>\n",
       "      <td>45</td>\n",
       "    </tr>\n",
       "  </tbody>\n",
       "</table>\n",
       "</div>"
      ],
      "text/plain": [
       "                                                Name          Disaster  \\\n",
       "0   Southern Severe Storms and Flooding (April 1980)          Flooding   \n",
       "1                      Hurricane Allen (August 1980)  Tropical Cyclone   \n",
       "2  Central/Eastern Drought/Heat Wave (Summer-Fall...           Drought   \n",
       "3                      Florida Freeze (January 1981)            Freeze   \n",
       "4  Severe Storms, Flash Floods, Hail, Tornadoes (...      Severe Storm   \n",
       "5  Midwest/Southeast/Northeast Winter Storm, Cold...      Winter Storm   \n",
       "6    Midwest/Plains/Southeast Tornadoes (April 1982)      Severe Storm   \n",
       "7                          Severe Storms (June 1982)      Severe Storm   \n",
       "8  Gulf States Storms and Flooding (December 1982...          Flooding   \n",
       "\n",
       "   Begin Date    End Date  Total loss Cost (Millions of Dollars)  Deaths  \n",
       "0   4/10/1980   4/17/1980                                 2551.4       7  \n",
       "1    8/7/1980   8/11/1980                                 2071.0      13  \n",
       "2    6/1/1980  11/30/1980                                37675.2    1260  \n",
       "3   1/12/1981   1/14/1981                                 1921.9       0  \n",
       "4    5/5/1981   5/10/1981                                 1304.7      20  \n",
       "5    1/8/1982   1/16/1982                                 2052.4      85  \n",
       "6    4/2/1982    4/4/1982                                 1488.4      33  \n",
       "7   5/31/1982   6/10/1982                                 1464.1      30  \n",
       "8   1982-12-0   1/15/1983                                 4577.5      45  "
      ]
     },
     "execution_count": 11,
     "metadata": {},
     "output_type": "execute_result"
    }
   ],
   "source": [
    "df.head(9)"
   ]
  },
  {
   "cell_type": "code",
   "execution_count": 12,
   "id": "cd72052f-79b6-46b9-8875-1a1123a278c2",
   "metadata": {},
   "outputs": [
    {
     "data": {
      "text/html": [
       "<div>\n",
       "<style scoped>\n",
       "    .dataframe tbody tr th:only-of-type {\n",
       "        vertical-align: middle;\n",
       "    }\n",
       "\n",
       "    .dataframe tbody tr th {\n",
       "        vertical-align: top;\n",
       "    }\n",
       "\n",
       "    .dataframe thead th {\n",
       "        text-align: right;\n",
       "    }\n",
       "</style>\n",
       "<table border=\"1\" class=\"dataframe\">\n",
       "  <thead>\n",
       "    <tr style=\"text-align: right;\">\n",
       "      <th></th>\n",
       "      <th>Name</th>\n",
       "      <th>Disaster</th>\n",
       "      <th>Begin Date</th>\n",
       "      <th>End Date</th>\n",
       "      <th>Total loss Cost (Millions of Dollars)</th>\n",
       "      <th>Deaths</th>\n",
       "    </tr>\n",
       "  </thead>\n",
       "  <tbody>\n",
       "    <tr>\n",
       "      <th>333</th>\n",
       "      <td>Kentucky and Missouri Flooding (July 2022)</td>\n",
       "      <td>Flooding</td>\n",
       "      <td>7/26/2022</td>\n",
       "      <td>7/28/2022</td>\n",
       "      <td>1195.0</td>\n",
       "      <td>42</td>\n",
       "    </tr>\n",
       "    <tr>\n",
       "      <th>334</th>\n",
       "      <td>Hurricane Fiona (September 2022)</td>\n",
       "      <td>Tropical Cyclone</td>\n",
       "      <td>9/17/2022</td>\n",
       "      <td>9/18/2022</td>\n",
       "      <td>2178.0</td>\n",
       "      <td>25</td>\n",
       "    </tr>\n",
       "    <tr>\n",
       "      <th>335</th>\n",
       "      <td>Western Wildfires (Spring-Fall 2022)</td>\n",
       "      <td>Wildfire</td>\n",
       "      <td>4/1/2022</td>\n",
       "      <td>9/30/2022</td>\n",
       "      <td>1324.0</td>\n",
       "      <td>17</td>\n",
       "    </tr>\n",
       "    <tr>\n",
       "      <th>336</th>\n",
       "      <td>Western/Southern Plains Drought and Heat Wave ...</td>\n",
       "      <td>Drought</td>\n",
       "      <td>1/1/2022</td>\n",
       "      <td>9/30/2022</td>\n",
       "      <td>9326.7</td>\n",
       "      <td>117</td>\n",
       "    </tr>\n",
       "    <tr>\n",
       "      <th>337</th>\n",
       "      <td>Hurricane Ian (September 2022)</td>\n",
       "      <td>Tropical Cyclone</td>\n",
       "      <td>9/28/2022</td>\n",
       "      <td>9/30/2022</td>\n",
       "      <td>3189.0</td>\n",
       "      <td>131</td>\n",
       "    </tr>\n",
       "  </tbody>\n",
       "</table>\n",
       "</div>"
      ],
      "text/plain": [
       "                                                  Name          Disaster  \\\n",
       "333         Kentucky and Missouri Flooding (July 2022)          Flooding   \n",
       "334                   Hurricane Fiona (September 2022)  Tropical Cyclone   \n",
       "335               Western Wildfires (Spring-Fall 2022)          Wildfire   \n",
       "336  Western/Southern Plains Drought and Heat Wave ...           Drought   \n",
       "337                     Hurricane Ian (September 2022)  Tropical Cyclone   \n",
       "\n",
       "    Begin Date   End Date  Total loss Cost (Millions of Dollars)  Deaths  \n",
       "333  7/26/2022  7/28/2022                                 1195.0      42  \n",
       "334  9/17/2022  9/18/2022                                 2178.0      25  \n",
       "335   4/1/2022  9/30/2022                                 1324.0      17  \n",
       "336   1/1/2022  9/30/2022                                 9326.7     117  \n",
       "337  9/28/2022  9/30/2022                                 3189.0     131  "
      ]
     },
     "execution_count": 12,
     "metadata": {},
     "output_type": "execute_result"
    }
   ],
   "source": [
    "df.tail()"
   ]
  },
  {
   "cell_type": "code",
   "execution_count": 13,
   "id": "4bbddb44-70c6-40d1-8ead-93a90b58504d",
   "metadata": {},
   "outputs": [
    {
     "data": {
      "text/html": [
       "<div>\n",
       "<style scoped>\n",
       "    .dataframe tbody tr th:only-of-type {\n",
       "        vertical-align: middle;\n",
       "    }\n",
       "\n",
       "    .dataframe tbody tr th {\n",
       "        vertical-align: top;\n",
       "    }\n",
       "\n",
       "    .dataframe thead th {\n",
       "        text-align: right;\n",
       "    }\n",
       "</style>\n",
       "<table border=\"1\" class=\"dataframe\">\n",
       "  <thead>\n",
       "    <tr style=\"text-align: right;\">\n",
       "      <th></th>\n",
       "      <th>Name</th>\n",
       "      <th>Disaster</th>\n",
       "      <th>Begin Date</th>\n",
       "      <th>End Date</th>\n",
       "      <th>Total loss Cost (Millions of Dollars)</th>\n",
       "      <th>Deaths</th>\n",
       "    </tr>\n",
       "  </thead>\n",
       "  <tbody>\n",
       "    <tr>\n",
       "      <th>331</th>\n",
       "      <td>Central Derecho (June 2022)</td>\n",
       "      <td>Severe Storm</td>\n",
       "      <td>6/13/2022</td>\n",
       "      <td>6/13/2022</td>\n",
       "      <td>2936.0</td>\n",
       "      <td>1</td>\n",
       "    </tr>\n",
       "    <tr>\n",
       "      <th>332</th>\n",
       "      <td>North Central and Eastern Severe Weather (July...</td>\n",
       "      <td>Severe Storm</td>\n",
       "      <td>7/22/2022</td>\n",
       "      <td>7/24/2022</td>\n",
       "      <td>1294.0</td>\n",
       "      <td>1</td>\n",
       "    </tr>\n",
       "    <tr>\n",
       "      <th>333</th>\n",
       "      <td>Kentucky and Missouri Flooding (July 2022)</td>\n",
       "      <td>Flooding</td>\n",
       "      <td>7/26/2022</td>\n",
       "      <td>7/28/2022</td>\n",
       "      <td>1195.0</td>\n",
       "      <td>42</td>\n",
       "    </tr>\n",
       "    <tr>\n",
       "      <th>334</th>\n",
       "      <td>Hurricane Fiona (September 2022)</td>\n",
       "      <td>Tropical Cyclone</td>\n",
       "      <td>9/17/2022</td>\n",
       "      <td>9/18/2022</td>\n",
       "      <td>2178.0</td>\n",
       "      <td>25</td>\n",
       "    </tr>\n",
       "    <tr>\n",
       "      <th>335</th>\n",
       "      <td>Western Wildfires (Spring-Fall 2022)</td>\n",
       "      <td>Wildfire</td>\n",
       "      <td>4/1/2022</td>\n",
       "      <td>9/30/2022</td>\n",
       "      <td>1324.0</td>\n",
       "      <td>17</td>\n",
       "    </tr>\n",
       "    <tr>\n",
       "      <th>336</th>\n",
       "      <td>Western/Southern Plains Drought and Heat Wave ...</td>\n",
       "      <td>Drought</td>\n",
       "      <td>1/1/2022</td>\n",
       "      <td>9/30/2022</td>\n",
       "      <td>9326.7</td>\n",
       "      <td>117</td>\n",
       "    </tr>\n",
       "    <tr>\n",
       "      <th>337</th>\n",
       "      <td>Hurricane Ian (September 2022)</td>\n",
       "      <td>Tropical Cyclone</td>\n",
       "      <td>9/28/2022</td>\n",
       "      <td>9/30/2022</td>\n",
       "      <td>3189.0</td>\n",
       "      <td>131</td>\n",
       "    </tr>\n",
       "  </tbody>\n",
       "</table>\n",
       "</div>"
      ],
      "text/plain": [
       "                                                  Name          Disaster  \\\n",
       "331                        Central Derecho (June 2022)      Severe Storm   \n",
       "332  North Central and Eastern Severe Weather (July...      Severe Storm   \n",
       "333         Kentucky and Missouri Flooding (July 2022)          Flooding   \n",
       "334                   Hurricane Fiona (September 2022)  Tropical Cyclone   \n",
       "335               Western Wildfires (Spring-Fall 2022)          Wildfire   \n",
       "336  Western/Southern Plains Drought and Heat Wave ...           Drought   \n",
       "337                     Hurricane Ian (September 2022)  Tropical Cyclone   \n",
       "\n",
       "    Begin Date   End Date  Total loss Cost (Millions of Dollars)  Deaths  \n",
       "331  6/13/2022  6/13/2022                                 2936.0       1  \n",
       "332  7/22/2022  7/24/2022                                 1294.0       1  \n",
       "333  7/26/2022  7/28/2022                                 1195.0      42  \n",
       "334  9/17/2022  9/18/2022                                 2178.0      25  \n",
       "335   4/1/2022  9/30/2022                                 1324.0      17  \n",
       "336   1/1/2022  9/30/2022                                 9326.7     117  \n",
       "337  9/28/2022  9/30/2022                                 3189.0     131  "
      ]
     },
     "execution_count": 13,
     "metadata": {},
     "output_type": "execute_result"
    }
   ],
   "source": [
    "df.tail(7)"
   ]
  },
  {
   "cell_type": "code",
   "execution_count": 19,
   "id": "7770b27f-d046-4a10-be01-821d011aba89",
   "metadata": {},
   "outputs": [
    {
     "data": {
      "text/html": [
       "<div>\n",
       "<style scoped>\n",
       "    .dataframe tbody tr th:only-of-type {\n",
       "        vertical-align: middle;\n",
       "    }\n",
       "\n",
       "    .dataframe tbody tr th {\n",
       "        vertical-align: top;\n",
       "    }\n",
       "\n",
       "    .dataframe thead th {\n",
       "        text-align: right;\n",
       "    }\n",
       "</style>\n",
       "<table border=\"1\" class=\"dataframe\">\n",
       "  <thead>\n",
       "    <tr style=\"text-align: right;\">\n",
       "      <th></th>\n",
       "      <th>Total loss Cost (Millions of Dollars)</th>\n",
       "      <th>Deaths</th>\n",
       "    </tr>\n",
       "  </thead>\n",
       "  <tbody>\n",
       "    <tr>\n",
       "      <th>count</th>\n",
       "      <td>338.000000</td>\n",
       "      <td>338.000000</td>\n",
       "    </tr>\n",
       "    <tr>\n",
       "      <th>mean</th>\n",
       "      <td>6816.925740</td>\n",
       "      <td>46.417160</td>\n",
       "    </tr>\n",
       "    <tr>\n",
       "      <th>std</th>\n",
       "      <td>16858.381025</td>\n",
       "      <td>211.957628</td>\n",
       "    </tr>\n",
       "    <tr>\n",
       "      <th>min</th>\n",
       "      <td>1070.300000</td>\n",
       "      <td>0.000000</td>\n",
       "    </tr>\n",
       "    <tr>\n",
       "      <th>25%</th>\n",
       "      <td>1544.100000</td>\n",
       "      <td>1.000000</td>\n",
       "    </tr>\n",
       "    <tr>\n",
       "      <th>50%</th>\n",
       "      <td>2315.400000</td>\n",
       "      <td>6.000000</td>\n",
       "    </tr>\n",
       "    <tr>\n",
       "      <th>75%</th>\n",
       "      <td>4818.250000</td>\n",
       "      <td>27.750000</td>\n",
       "    </tr>\n",
       "    <tr>\n",
       "      <th>max</th>\n",
       "      <td>186294.000000</td>\n",
       "      <td>2981.000000</td>\n",
       "    </tr>\n",
       "  </tbody>\n",
       "</table>\n",
       "</div>"
      ],
      "text/plain": [
       "       Total loss Cost (Millions of Dollars)       Deaths\n",
       "count                             338.000000   338.000000\n",
       "mean                             6816.925740    46.417160\n",
       "std                             16858.381025   211.957628\n",
       "min                              1070.300000     0.000000\n",
       "25%                              1544.100000     1.000000\n",
       "50%                              2315.400000     6.000000\n",
       "75%                              4818.250000    27.750000\n",
       "max                            186294.000000  2981.000000"
      ]
     },
     "execution_count": 19,
     "metadata": {},
     "output_type": "execute_result"
    }
   ],
   "source": [
    "df.describe()"
   ]
  },
  {
   "cell_type": "code",
   "execution_count": 21,
   "id": "1e0cd58d-552d-4684-bee5-d3205828d5ba",
   "metadata": {},
   "outputs": [
    {
     "data": {
      "text/plain": [
       "Index(['Name', 'Disaster', 'Begin Date', 'End Date',\n",
       "       'Total loss Cost (Millions of Dollars)', 'Deaths'],\n",
       "      dtype='object')"
      ]
     },
     "execution_count": 21,
     "metadata": {},
     "output_type": "execute_result"
    }
   ],
   "source": [
    "df.columns"
   ]
  },
  {
   "cell_type": "code",
   "execution_count": 22,
   "id": "8efc4182-91f4-48aa-bad7-2cc892883492",
   "metadata": {},
   "outputs": [
    {
     "data": {
      "text/plain": [
       "RangeIndex(start=0, stop=338, step=1)"
      ]
     },
     "execution_count": 22,
     "metadata": {},
     "output_type": "execute_result"
    }
   ],
   "source": [
    "df.index"
   ]
  },
  {
   "cell_type": "code",
   "execution_count": 24,
   "id": "5572cd97-0ab0-4a54-8f39-70b747e62532",
   "metadata": {},
   "outputs": [
    {
     "data": {
      "text/plain": [
       "0              Flooding\n",
       "1      Tropical Cyclone\n",
       "2               Drought\n",
       "3                Freeze\n",
       "4          Severe Storm\n",
       "             ...       \n",
       "333            Flooding\n",
       "334    Tropical Cyclone\n",
       "335            Wildfire\n",
       "336             Drought\n",
       "337    Tropical Cyclone\n",
       "Name: Disaster, Length: 338, dtype: object"
      ]
     },
     "execution_count": 24,
     "metadata": {},
     "output_type": "execute_result"
    }
   ],
   "source": [
    "df['Disaster']"
   ]
  },
  {
   "cell_type": "code",
   "execution_count": 28,
   "id": "4f737442-f4fc-4b76-abdd-94f7aec57ab5",
   "metadata": {},
   "outputs": [
    {
     "data": {
      "text/plain": [
       "0            Flooding\n",
       "1    Tropical Cyclone\n",
       "2             Drought\n",
       "3              Freeze\n",
       "4        Severe Storm\n",
       "5        Winter Storm\n",
       "Name: Disaster, dtype: object"
      ]
     },
     "execution_count": 28,
     "metadata": {},
     "output_type": "execute_result"
    }
   ],
   "source": [
    "df['Disaster'].head(6)"
   ]
  },
  {
   "cell_type": "code",
   "execution_count": 31,
   "id": "63b9047b-394b-42bd-b99e-8d794c249496",
   "metadata": {},
   "outputs": [
    {
     "data": {
      "text/html": [
       "<div>\n",
       "<style scoped>\n",
       "    .dataframe tbody tr th:only-of-type {\n",
       "        vertical-align: middle;\n",
       "    }\n",
       "\n",
       "    .dataframe tbody tr th {\n",
       "        vertical-align: top;\n",
       "    }\n",
       "\n",
       "    .dataframe thead th {\n",
       "        text-align: right;\n",
       "    }\n",
       "</style>\n",
       "<table border=\"1\" class=\"dataframe\">\n",
       "  <thead>\n",
       "    <tr style=\"text-align: right;\">\n",
       "      <th></th>\n",
       "      <th>Disaster</th>\n",
       "      <th>Deaths</th>\n",
       "    </tr>\n",
       "  </thead>\n",
       "  <tbody>\n",
       "    <tr>\n",
       "      <th>0</th>\n",
       "      <td>Flooding</td>\n",
       "      <td>7</td>\n",
       "    </tr>\n",
       "    <tr>\n",
       "      <th>1</th>\n",
       "      <td>Tropical Cyclone</td>\n",
       "      <td>13</td>\n",
       "    </tr>\n",
       "    <tr>\n",
       "      <th>2</th>\n",
       "      <td>Drought</td>\n",
       "      <td>1260</td>\n",
       "    </tr>\n",
       "    <tr>\n",
       "      <th>3</th>\n",
       "      <td>Freeze</td>\n",
       "      <td>0</td>\n",
       "    </tr>\n",
       "    <tr>\n",
       "      <th>4</th>\n",
       "      <td>Severe Storm</td>\n",
       "      <td>20</td>\n",
       "    </tr>\n",
       "  </tbody>\n",
       "</table>\n",
       "</div>"
      ],
      "text/plain": [
       "           Disaster  Deaths\n",
       "0          Flooding       7\n",
       "1  Tropical Cyclone      13\n",
       "2           Drought    1260\n",
       "3            Freeze       0\n",
       "4      Severe Storm      20"
      ]
     },
     "execution_count": 31,
     "metadata": {},
     "output_type": "execute_result"
    }
   ],
   "source": [
    "df[['Disaster','Deaths']].head()"
   ]
  },
  {
   "cell_type": "code",
   "execution_count": 38,
   "id": "534daab6-5149-4837-bea2-23434e7abbca",
   "metadata": {},
   "outputs": [
    {
     "data": {
      "text/plain": [
       "0       2551.4\n",
       "1       2071.0\n",
       "2      37675.2\n",
       "3       1921.9\n",
       "4       1304.7\n",
       "        ...   \n",
       "333     1195.0\n",
       "334     2178.0\n",
       "335     1324.0\n",
       "336     9326.7\n",
       "337     3189.0\n",
       "Name: Total loss Cost (Millions of Dollars), Length: 338, dtype: float64"
      ]
     },
     "execution_count": 38,
     "metadata": {},
     "output_type": "execute_result"
    }
   ],
   "source": [
    "loss=df['Total loss Cost (Millions of Dollars)']\n",
    "loss"
   ]
  },
  {
   "cell_type": "code",
   "execution_count": 40,
   "id": "746855f4-acd5-46d5-a215-88f928973b7d",
   "metadata": {},
   "outputs": [
    {
     "data": {
      "text/plain": [
       "1     2071.0\n",
       "2    37675.2\n",
       "3     1921.9\n",
       "4     1304.7\n",
       "5     2052.4\n",
       "6     1488.4\n",
       "7     1464.1\n",
       "Name: Total loss Cost (Millions of Dollars), dtype: float64"
      ]
     },
     "execution_count": 40,
     "metadata": {},
     "output_type": "execute_result"
    }
   ],
   "source": [
    "loss[1:8]"
   ]
  },
  {
   "cell_type": "code",
   "execution_count": 41,
   "id": "9a53012f-7821-4710-9413-0225bfc73316",
   "metadata": {},
   "outputs": [
    {
     "data": {
      "text/plain": [
       "4    1304.7\n",
       "7    1464.1\n",
       "9    4468.9\n",
       "Name: Total loss Cost (Millions of Dollars), dtype: float64"
      ]
     },
     "execution_count": 41,
     "metadata": {},
     "output_type": "execute_result"
    }
   ],
   "source": [
    "loss[[4,7,9]]"
   ]
  },
  {
   "cell_type": "code",
   "execution_count": 45,
   "id": "bb617cd4-17e1-464e-8d0c-b449416f1f58",
   "metadata": {},
   "outputs": [
    {
     "data": {
      "text/plain": [
       "'Florida Freeze (January 1981)'"
      ]
     },
     "execution_count": 45,
     "metadata": {},
     "output_type": "execute_result"
    }
   ],
   "source": [
    "Dis4_name=df.loc[3,'Name']\n",
    "Dis4_name"
   ]
  },
  {
   "cell_type": "code",
   "execution_count": 47,
   "id": "807630ec-917f-44ed-bb35-dc68134ff806",
   "metadata": {},
   "outputs": [
    {
     "data": {
      "text/plain": [
       "Name                                     Southern Severe Storms and Flooding (April 1980)\n",
       "Disaster                                                                         Flooding\n",
       "Begin Date                                                                      4/10/1980\n",
       "End Date                                                                        4/17/1980\n",
       "Total loss Cost (Millions of Dollars)                                              2551.4\n",
       "Deaths                                                                                  7\n",
       "Name: 0, dtype: object"
      ]
     },
     "execution_count": 47,
     "metadata": {},
     "output_type": "execute_result"
    }
   ],
   "source": [
    "f_row=df.loc[0,:]\n",
    "f_row"
   ]
  },
  {
   "cell_type": "code",
   "execution_count": 51,
   "id": "eb21f4e6-685c-44ca-ac24-5d7635d4dab0",
   "metadata": {},
   "outputs": [
    {
     "data": {
      "text/html": [
       "<div>\n",
       "<style scoped>\n",
       "    .dataframe tbody tr th:only-of-type {\n",
       "        vertical-align: middle;\n",
       "    }\n",
       "\n",
       "    .dataframe tbody tr th {\n",
       "        vertical-align: top;\n",
       "    }\n",
       "\n",
       "    .dataframe thead th {\n",
       "        text-align: right;\n",
       "    }\n",
       "</style>\n",
       "<table border=\"1\" class=\"dataframe\">\n",
       "  <thead>\n",
       "    <tr style=\"text-align: right;\">\n",
       "      <th></th>\n",
       "      <th>End Date</th>\n",
       "      <th>Total loss Cost (Millions of Dollars)</th>\n",
       "      <th>Deaths</th>\n",
       "    </tr>\n",
       "  </thead>\n",
       "  <tbody>\n",
       "    <tr>\n",
       "      <th>0</th>\n",
       "      <td>4/17/1980</td>\n",
       "      <td>2551.4</td>\n",
       "      <td>7</td>\n",
       "    </tr>\n",
       "    <tr>\n",
       "      <th>1</th>\n",
       "      <td>8/11/1980</td>\n",
       "      <td>2071.0</td>\n",
       "      <td>13</td>\n",
       "    </tr>\n",
       "    <tr>\n",
       "      <th>2</th>\n",
       "      <td>11/30/1980</td>\n",
       "      <td>37675.2</td>\n",
       "      <td>1260</td>\n",
       "    </tr>\n",
       "    <tr>\n",
       "      <th>3</th>\n",
       "      <td>1/14/1981</td>\n",
       "      <td>1921.9</td>\n",
       "      <td>0</td>\n",
       "    </tr>\n",
       "    <tr>\n",
       "      <th>4</th>\n",
       "      <td>5/10/1981</td>\n",
       "      <td>1304.7</td>\n",
       "      <td>20</td>\n",
       "    </tr>\n",
       "  </tbody>\n",
       "</table>\n",
       "</div>"
      ],
      "text/plain": [
       "     End Date  Total loss Cost (Millions of Dollars)  Deaths\n",
       "0   4/17/1980                                 2551.4       7\n",
       "1   8/11/1980                                 2071.0      13\n",
       "2  11/30/1980                                37675.2    1260\n",
       "3   1/14/1981                                 1921.9       0\n",
       "4   5/10/1981                                 1304.7      20"
      ]
     },
     "execution_count": 51,
     "metadata": {},
     "output_type": "execute_result"
    }
   ],
   "source": [
    "one_slice=df.loc[0:4,'End Date':'Deaths']\n",
    "one_slice"
   ]
  },
  {
   "cell_type": "code",
   "execution_count": 54,
   "id": "11b41bc3-35db-4e8d-9700-76e9326745cf",
   "metadata": {},
   "outputs": [
    {
     "data": {
      "text/plain": [
       "46.417159763313606"
      ]
     },
     "execution_count": 54,
     "metadata": {},
     "output_type": "execute_result"
    }
   ],
   "source": [
    "av=df.Deaths.mean()\n",
    "av"
   ]
  },
  {
   "cell_type": "code",
   "execution_count": 63,
   "id": "901ac23e-e265-4cb1-a49e-7b46534d48f9",
   "metadata": {},
   "outputs": [
    {
     "data": {
      "text/plain": [
       "1070.3"
      ]
     },
     "execution_count": 63,
     "metadata": {},
     "output_type": "execute_result"
    }
   ],
   "source": [
    "min=df['Total loss Cost (Millions of Dollars)'].min()\n",
    "min"
   ]
  },
  {
   "cell_type": "code",
   "execution_count": 65,
   "id": "25613cf3-753e-4700-a27b-0783619b7203",
   "metadata": {},
   "outputs": [
    {
     "data": {
      "text/plain": [
       "Disaster\n",
       "Severe Storm        162\n",
       "Tropical Cyclone     59\n",
       "Flooding             37\n",
       "Drought              30\n",
       "Wildfire             21\n",
       "Winter Storm         20\n",
       "Freeze                9\n",
       "Name: count, dtype: int64"
      ]
     },
     "execution_count": 65,
     "metadata": {},
     "output_type": "execute_result"
    }
   ],
   "source": [
    "count=df.Disaster.value_counts()\n",
    "count"
   ]
  },
  {
   "cell_type": "code",
   "execution_count": 67,
   "id": "ffc01498-41cd-456c-9a3a-5a20132ce3f0",
   "metadata": {},
   "outputs": [
    {
     "data": {
      "text/plain": [
       "Disaster\n",
       "Flooding    37\n",
       "Freeze       9\n",
       "Name: count, dtype: int64"
      ]
     },
     "execution_count": 67,
     "metadata": {},
     "output_type": "execute_result"
    }
   ],
   "source": [
    "count[['Flooding','Freeze']]"
   ]
  },
  {
   "cell_type": "code",
   "execution_count": 68,
   "id": "2fcb823c-abb2-4ce3-bd9d-a25a0c548267",
   "metadata": {},
   "outputs": [
    {
     "data": {
      "text/plain": [
       "array(['Flooding', 'Tropical Cyclone', 'Drought', 'Freeze',\n",
       "       'Severe Storm', 'Winter Storm', 'Wildfire'], dtype=object)"
      ]
     },
     "execution_count": 68,
     "metadata": {},
     "output_type": "execute_result"
    }
   ],
   "source": [
    "un=df.Disaster.unique()\n",
    "un"
   ]
  },
  {
   "cell_type": "code",
   "execution_count": 69,
   "id": "73d317e4-1d8a-46dd-8b04-6492bb61970b",
   "metadata": {},
   "outputs": [
    {
     "data": {
      "text/plain": [
       "'Drought'"
      ]
     },
     "execution_count": 69,
     "metadata": {},
     "output_type": "execute_result"
    }
   ],
   "source": [
    "un[2]"
   ]
  },
  {
   "cell_type": "code",
   "execution_count": 72,
   "id": "02d8b115-8216-4050-8a46-f3e7abbb4b89",
   "metadata": {},
   "outputs": [
    {
     "data": {
      "text/plain": [
       "7"
      ]
     },
     "execution_count": 72,
     "metadata": {},
     "output_type": "execute_result"
    }
   ],
   "source": [
    "len(un)"
   ]
  },
  {
   "cell_type": "code",
   "execution_count": 84,
   "id": "8aac89ea-9ff9-4f1e-b64f-ae7c1619d820",
   "metadata": {},
   "outputs": [
    {
     "data": {
      "text/html": [
       "<div>\n",
       "<style scoped>\n",
       "    .dataframe tbody tr th:only-of-type {\n",
       "        vertical-align: middle;\n",
       "    }\n",
       "\n",
       "    .dataframe tbody tr th {\n",
       "        vertical-align: top;\n",
       "    }\n",
       "\n",
       "    .dataframe thead th {\n",
       "        text-align: right;\n",
       "    }\n",
       "</style>\n",
       "<table border=\"1\" class=\"dataframe\">\n",
       "  <thead>\n",
       "    <tr style=\"text-align: right;\">\n",
       "      <th></th>\n",
       "      <th>Name</th>\n",
       "      <th>Disaster</th>\n",
       "      <th>Begin Date</th>\n",
       "      <th>End Date</th>\n",
       "      <th>Total loss Cost (Millions of Dollars)</th>\n",
       "      <th>Deaths</th>\n",
       "      <th>N_Deaths</th>\n",
       "    </tr>\n",
       "  </thead>\n",
       "  <tbody>\n",
       "    <tr>\n",
       "      <th>0</th>\n",
       "      <td>Southern Severe Storms and Flooding (April 1980)</td>\n",
       "      <td>Flooding</td>\n",
       "      <td>4/10/1980</td>\n",
       "      <td>4/17/1980</td>\n",
       "      <td>2551.4</td>\n",
       "      <td>7</td>\n",
       "      <td>10</td>\n",
       "    </tr>\n",
       "    <tr>\n",
       "      <th>1</th>\n",
       "      <td>Hurricane Allen (August 1980)</td>\n",
       "      <td>Tropical Cyclone</td>\n",
       "      <td>8/7/1980</td>\n",
       "      <td>8/11/1980</td>\n",
       "      <td>2071.0</td>\n",
       "      <td>13</td>\n",
       "      <td>16</td>\n",
       "    </tr>\n",
       "    <tr>\n",
       "      <th>2</th>\n",
       "      <td>Central/Eastern Drought/Heat Wave (Summer-Fall...</td>\n",
       "      <td>Drought</td>\n",
       "      <td>6/1/1980</td>\n",
       "      <td>11/30/1980</td>\n",
       "      <td>37675.2</td>\n",
       "      <td>1260</td>\n",
       "      <td>1263</td>\n",
       "    </tr>\n",
       "    <tr>\n",
       "      <th>3</th>\n",
       "      <td>Florida Freeze (January 1981)</td>\n",
       "      <td>Freeze</td>\n",
       "      <td>1/12/1981</td>\n",
       "      <td>1/14/1981</td>\n",
       "      <td>1921.9</td>\n",
       "      <td>0</td>\n",
       "      <td>3</td>\n",
       "    </tr>\n",
       "    <tr>\n",
       "      <th>4</th>\n",
       "      <td>Severe Storms, Flash Floods, Hail, Tornadoes (...</td>\n",
       "      <td>Severe Storm</td>\n",
       "      <td>5/5/1981</td>\n",
       "      <td>5/10/1981</td>\n",
       "      <td>1304.7</td>\n",
       "      <td>20</td>\n",
       "      <td>23</td>\n",
       "    </tr>\n",
       "  </tbody>\n",
       "</table>\n",
       "</div>"
      ],
      "text/plain": [
       "                                                Name          Disaster  \\\n",
       "0   Southern Severe Storms and Flooding (April 1980)          Flooding   \n",
       "1                      Hurricane Allen (August 1980)  Tropical Cyclone   \n",
       "2  Central/Eastern Drought/Heat Wave (Summer-Fall...           Drought   \n",
       "3                      Florida Freeze (January 1981)            Freeze   \n",
       "4  Severe Storms, Flash Floods, Hail, Tornadoes (...      Severe Storm   \n",
       "\n",
       "  Begin Date    End Date  Total loss Cost (Millions of Dollars)  Deaths  \\\n",
       "0  4/10/1980   4/17/1980                                 2551.4       7   \n",
       "1   8/7/1980   8/11/1980                                 2071.0      13   \n",
       "2   6/1/1980  11/30/1980                                37675.2    1260   \n",
       "3  1/12/1981   1/14/1981                                 1921.9       0   \n",
       "4   5/5/1981   5/10/1981                                 1304.7      20   \n",
       "\n",
       "   N_Deaths  \n",
       "0        10  \n",
       "1        16  \n",
       "2      1263  \n",
       "3         3  \n",
       "4        23  "
      ]
     },
     "execution_count": 84,
     "metadata": {},
     "output_type": "execute_result"
    }
   ],
   "source": [
    "df['N_Deaths']=df['Deaths']+3\n",
    "df.head()"
   ]
  },
  {
   "cell_type": "code",
   "execution_count": 86,
   "id": "0880ce09-7c92-4266-b71e-db58473c25ea",
   "metadata": {},
   "outputs": [
    {
     "data": {
      "text/html": [
       "<div>\n",
       "<style scoped>\n",
       "    .dataframe tbody tr th:only-of-type {\n",
       "        vertical-align: middle;\n",
       "    }\n",
       "\n",
       "    .dataframe tbody tr th {\n",
       "        vertical-align: top;\n",
       "    }\n",
       "\n",
       "    .dataframe thead th {\n",
       "        text-align: right;\n",
       "    }\n",
       "</style>\n",
       "<table border=\"1\" class=\"dataframe\">\n",
       "  <thead>\n",
       "    <tr style=\"text-align: right;\">\n",
       "      <th></th>\n",
       "      <th>Name</th>\n",
       "      <th>Disaster</th>\n",
       "      <th>Begin Date</th>\n",
       "      <th>End Date</th>\n",
       "      <th>Total loss Cost (Millions of Dollars)</th>\n",
       "      <th>Deaths</th>\n",
       "    </tr>\n",
       "  </thead>\n",
       "  <tbody>\n",
       "    <tr>\n",
       "      <th>0</th>\n",
       "      <td>Southern Severe Storms and Flooding (April 1980)</td>\n",
       "      <td>Flooding</td>\n",
       "      <td>4/10/1980</td>\n",
       "      <td>4/17/1980</td>\n",
       "      <td>2551.4</td>\n",
       "      <td>7</td>\n",
       "    </tr>\n",
       "    <tr>\n",
       "      <th>1</th>\n",
       "      <td>Hurricane Allen (August 1980)</td>\n",
       "      <td>Tropical Cyclone</td>\n",
       "      <td>8/7/1980</td>\n",
       "      <td>8/11/1980</td>\n",
       "      <td>2071.0</td>\n",
       "      <td>13</td>\n",
       "    </tr>\n",
       "    <tr>\n",
       "      <th>2</th>\n",
       "      <td>Central/Eastern Drought/Heat Wave (Summer-Fall...</td>\n",
       "      <td>Drought</td>\n",
       "      <td>6/1/1980</td>\n",
       "      <td>11/30/1980</td>\n",
       "      <td>37675.2</td>\n",
       "      <td>1260</td>\n",
       "    </tr>\n",
       "    <tr>\n",
       "      <th>3</th>\n",
       "      <td>Florida Freeze (January 1981)</td>\n",
       "      <td>Freeze</td>\n",
       "      <td>1/12/1981</td>\n",
       "      <td>1/14/1981</td>\n",
       "      <td>1921.9</td>\n",
       "      <td>0</td>\n",
       "    </tr>\n",
       "    <tr>\n",
       "      <th>4</th>\n",
       "      <td>Severe Storms, Flash Floods, Hail, Tornadoes (...</td>\n",
       "      <td>Severe Storm</td>\n",
       "      <td>5/5/1981</td>\n",
       "      <td>5/10/1981</td>\n",
       "      <td>1304.7</td>\n",
       "      <td>20</td>\n",
       "    </tr>\n",
       "  </tbody>\n",
       "</table>\n",
       "</div>"
      ],
      "text/plain": [
       "                                                Name          Disaster  \\\n",
       "0   Southern Severe Storms and Flooding (April 1980)          Flooding   \n",
       "1                      Hurricane Allen (August 1980)  Tropical Cyclone   \n",
       "2  Central/Eastern Drought/Heat Wave (Summer-Fall...           Drought   \n",
       "3                      Florida Freeze (January 1981)            Freeze   \n",
       "4  Severe Storms, Flash Floods, Hail, Tornadoes (...      Severe Storm   \n",
       "\n",
       "  Begin Date    End Date  Total loss Cost (Millions of Dollars)  Deaths  \n",
       "0  4/10/1980   4/17/1980                                 2551.4       7  \n",
       "1   8/7/1980   8/11/1980                                 2071.0      13  \n",
       "2   6/1/1980  11/30/1980                                37675.2    1260  \n",
       "3  1/12/1981   1/14/1981                                 1921.9       0  \n",
       "4   5/5/1981   5/10/1981                                 1304.7      20  "
      ]
     },
     "execution_count": 86,
     "metadata": {},
     "output_type": "execute_result"
    }
   ],
   "source": [
    "del df['N_Deaths']\n",
    "df.head()"
   ]
  },
  {
   "cell_type": "code",
   "execution_count": null,
   "id": "489fdc25-3249-4f5b-b45e-0b00daecbed1",
   "metadata": {},
   "outputs": [],
   "source": []
  },
  {
   "cell_type": "code",
   "execution_count": 135,
   "id": "973d7047-a253-4bb7-b5c3-5fef39c2d1d5",
   "metadata": {},
   "outputs": [
    {
     "data": {
      "text/html": [
       "<div>\n",
       "<style scoped>\n",
       "    .dataframe tbody tr th:only-of-type {\n",
       "        vertical-align: middle;\n",
       "    }\n",
       "\n",
       "    .dataframe tbody tr th {\n",
       "        vertical-align: top;\n",
       "    }\n",
       "\n",
       "    .dataframe thead th {\n",
       "        text-align: right;\n",
       "    }\n",
       "</style>\n",
       "<table border=\"1\" class=\"dataframe\">\n",
       "  <thead>\n",
       "    <tr style=\"text-align: right;\">\n",
       "      <th></th>\n",
       "      <th>Name</th>\n",
       "      <th>Disaster</th>\n",
       "      <th>Begin Date</th>\n",
       "      <th>End Date</th>\n",
       "      <th>Total loss Cost (Millions of Dollars)</th>\n",
       "      <th>Deaths</th>\n",
       "    </tr>\n",
       "  </thead>\n",
       "  <tbody>\n",
       "    <tr>\n",
       "      <th>108</th>\n",
       "      <td>Colorado Hail Storms (June 2004)</td>\n",
       "      <td>Severe Storm</td>\n",
       "      <td>20040608</td>\n",
       "      <td>20040609</td>\n",
       "      <td>1070.3</td>\n",
       "      <td>0</td>\n",
       "    </tr>\n",
       "    <tr>\n",
       "      <th>330</th>\n",
       "      <td>Central Severe Weather (June 2022)</td>\n",
       "      <td>Severe Storm</td>\n",
       "      <td>6/7/2022</td>\n",
       "      <td>6/8/2022</td>\n",
       "      <td>1837.0</td>\n",
       "      <td>0</td>\n",
       "    </tr>\n",
       "    <tr>\n",
       "      <th>32</th>\n",
       "      <td>Colorado Hail Storm (July 1990)</td>\n",
       "      <td>Severe Storm</td>\n",
       "      <td>19900711</td>\n",
       "      <td>19900711</td>\n",
       "      <td>1836.9</td>\n",
       "      <td>0</td>\n",
       "    </tr>\n",
       "    <tr>\n",
       "      <th>148</th>\n",
       "      <td>Midwest, South and East Severe Weather (June 2...</td>\n",
       "      <td>Severe Storm</td>\n",
       "      <td>20090609</td>\n",
       "      <td>20090612</td>\n",
       "      <td>1806.2</td>\n",
       "      <td>0</td>\n",
       "    </tr>\n",
       "    <tr>\n",
       "      <th>245</th>\n",
       "      <td>Midwest Severe Weather (June 2017)</td>\n",
       "      <td>Severe Storm</td>\n",
       "      <td>20170612</td>\n",
       "      <td>20170616</td>\n",
       "      <td>1795.8</td>\n",
       "      <td>0</td>\n",
       "    </tr>\n",
       "  </tbody>\n",
       "</table>\n",
       "</div>"
      ],
      "text/plain": [
       "                                                  Name      Disaster  \\\n",
       "108                   Colorado Hail Storms (June 2004)  Severe Storm   \n",
       "330                 Central Severe Weather (June 2022)  Severe Storm   \n",
       "32                     Colorado Hail Storm (July 1990)  Severe Storm   \n",
       "148  Midwest, South and East Severe Weather (June 2...  Severe Storm   \n",
       "245                 Midwest Severe Weather (June 2017)  Severe Storm   \n",
       "\n",
       "    Begin Date  End Date  Total loss Cost (Millions of Dollars)  Deaths  \n",
       "108   20040608  20040609                                 1070.3       0  \n",
       "330   6/7/2022  6/8/2022                                 1837.0       0  \n",
       "32    19900711  19900711                                 1836.9       0  \n",
       "148   20090609  20090612                                 1806.2       0  \n",
       "245   20170612  20170616                                 1795.8       0  "
      ]
     },
     "execution_count": 135,
     "metadata": {},
     "output_type": "execute_result"
    }
   ],
   "source": [
    "df.sort_values(by='Deaths',inplace=False, ascending=False)\n",
    "df.head()"
   ]
  },
  {
   "cell_type": "code",
   "execution_count": 136,
   "id": "883f42e3-0acf-4143-a435-d156e344d7de",
   "metadata": {},
   "outputs": [
    {
     "data": {
      "text/html": [
       "<div>\n",
       "<style scoped>\n",
       "    .dataframe tbody tr th:only-of-type {\n",
       "        vertical-align: middle;\n",
       "    }\n",
       "\n",
       "    .dataframe tbody tr th {\n",
       "        vertical-align: top;\n",
       "    }\n",
       "\n",
       "    .dataframe thead th {\n",
       "        text-align: right;\n",
       "    }\n",
       "</style>\n",
       "<table border=\"1\" class=\"dataframe\">\n",
       "  <thead>\n",
       "    <tr style=\"text-align: right;\">\n",
       "      <th></th>\n",
       "      <th>Name</th>\n",
       "      <th>Disaster</th>\n",
       "      <th>Begin Date</th>\n",
       "      <th>End Date</th>\n",
       "      <th>Total loss Cost (Millions of Dollars)</th>\n",
       "      <th>Deaths</th>\n",
       "    </tr>\n",
       "  </thead>\n",
       "  <tbody>\n",
       "    <tr>\n",
       "      <th>108</th>\n",
       "      <td>Colorado Hail Storms (June 2004)</td>\n",
       "      <td>Severe Storm</td>\n",
       "      <td>20040608</td>\n",
       "      <td>20040609</td>\n",
       "      <td>1070.3</td>\n",
       "      <td>0</td>\n",
       "    </tr>\n",
       "    <tr>\n",
       "      <th>330</th>\n",
       "      <td>Central Severe Weather (June 2022)</td>\n",
       "      <td>Severe Storm</td>\n",
       "      <td>6/7/2022</td>\n",
       "      <td>6/8/2022</td>\n",
       "      <td>1837.0</td>\n",
       "      <td>0</td>\n",
       "    </tr>\n",
       "    <tr>\n",
       "      <th>32</th>\n",
       "      <td>Colorado Hail Storm (July 1990)</td>\n",
       "      <td>Severe Storm</td>\n",
       "      <td>19900711</td>\n",
       "      <td>19900711</td>\n",
       "      <td>1836.9</td>\n",
       "      <td>0</td>\n",
       "    </tr>\n",
       "    <tr>\n",
       "      <th>148</th>\n",
       "      <td>Midwest, South and East Severe Weather (June 2...</td>\n",
       "      <td>Severe Storm</td>\n",
       "      <td>20090609</td>\n",
       "      <td>20090612</td>\n",
       "      <td>1806.2</td>\n",
       "      <td>0</td>\n",
       "    </tr>\n",
       "    <tr>\n",
       "      <th>245</th>\n",
       "      <td>Midwest Severe Weather (June 2017)</td>\n",
       "      <td>Severe Storm</td>\n",
       "      <td>20170612</td>\n",
       "      <td>20170616</td>\n",
       "      <td>1795.8</td>\n",
       "      <td>0</td>\n",
       "    </tr>\n",
       "  </tbody>\n",
       "</table>\n",
       "</div>"
      ],
      "text/plain": [
       "                                                  Name      Disaster  \\\n",
       "108                   Colorado Hail Storms (June 2004)  Severe Storm   \n",
       "330                 Central Severe Weather (June 2022)  Severe Storm   \n",
       "32                     Colorado Hail Storm (July 1990)  Severe Storm   \n",
       "148  Midwest, South and East Severe Weather (June 2...  Severe Storm   \n",
       "245                 Midwest Severe Weather (June 2017)  Severe Storm   \n",
       "\n",
       "    Begin Date  End Date  Total loss Cost (Millions of Dollars)  Deaths  \n",
       "108   20040608  20040609                                 1070.3       0  \n",
       "330   6/7/2022  6/8/2022                                 1837.0       0  \n",
       "32    19900711  19900711                                 1836.9       0  \n",
       "148   20090609  20090612                                 1806.2       0  \n",
       "245   20170612  20170616                                 1795.8       0  "
      ]
     },
     "execution_count": 136,
     "metadata": {},
     "output_type": "execute_result"
    }
   ],
   "source": [
    "df.sort_values(by=['Total loss Cost (Millions of Dollars)','Deaths'],inplace=False, ascending=False)\n",
    "df.head()"
   ]
  },
  {
   "cell_type": "code",
   "execution_count": 66,
   "id": "ff50d5ea-f7a1-4307-b8b0-2183f0ef9535",
   "metadata": {},
   "outputs": [
    {
     "data": {
      "text/html": [
       "<div>\n",
       "<style scoped>\n",
       "    .dataframe tbody tr th:only-of-type {\n",
       "        vertical-align: middle;\n",
       "    }\n",
       "\n",
       "    .dataframe tbody tr th {\n",
       "        vertical-align: top;\n",
       "    }\n",
       "\n",
       "    .dataframe thead th {\n",
       "        text-align: right;\n",
       "    }\n",
       "</style>\n",
       "<table border=\"1\" class=\"dataframe\">\n",
       "  <thead>\n",
       "    <tr style=\"text-align: right;\">\n",
       "      <th></th>\n",
       "      <th>Name</th>\n",
       "      <th>Disaster</th>\n",
       "      <th>Begin Date</th>\n",
       "      <th>End Date</th>\n",
       "      <th>Total loss Cost (Millions of Dollars)</th>\n",
       "      <th>Deaths</th>\n",
       "    </tr>\n",
       "  </thead>\n",
       "  <tbody>\n",
       "    <tr>\n",
       "      <th>0</th>\n",
       "      <td>Southern Severe Storms and Flooding (April 1980)</td>\n",
       "      <td>Flooding</td>\n",
       "      <td>4/10/1980</td>\n",
       "      <td>4/17/1980</td>\n",
       "      <td>2551.4</td>\n",
       "      <td>7</td>\n",
       "    </tr>\n",
       "    <tr>\n",
       "      <th>1</th>\n",
       "      <td>Hurricane Allen (August 1980)</td>\n",
       "      <td>Tropical Cyclone</td>\n",
       "      <td>8/7/1980</td>\n",
       "      <td>8/11/1980</td>\n",
       "      <td>2071.0</td>\n",
       "      <td>13</td>\n",
       "    </tr>\n",
       "    <tr>\n",
       "      <th>2</th>\n",
       "      <td>Central/Eastern Drought/Heat Wave (Summer-Fall...</td>\n",
       "      <td>Drought</td>\n",
       "      <td>6/1/1980</td>\n",
       "      <td>11/30/1980</td>\n",
       "      <td>37675.2</td>\n",
       "      <td>1260</td>\n",
       "    </tr>\n",
       "    <tr>\n",
       "      <th>3</th>\n",
       "      <td>Florida Freeze (January 1981)</td>\n",
       "      <td>Freeze</td>\n",
       "      <td>1/12/1981</td>\n",
       "      <td>1/14/1981</td>\n",
       "      <td>1921.9</td>\n",
       "      <td>0</td>\n",
       "    </tr>\n",
       "    <tr>\n",
       "      <th>4</th>\n",
       "      <td>Severe Storms, Flash Floods, Hail, Tornadoes (...</td>\n",
       "      <td>Severe Storm</td>\n",
       "      <td>5/5/1981</td>\n",
       "      <td>5/10/1981</td>\n",
       "      <td>1304.7</td>\n",
       "      <td>20</td>\n",
       "    </tr>\n",
       "  </tbody>\n",
       "</table>\n",
       "</div>"
      ],
      "text/plain": [
       "                                                Name          Disaster  \\\n",
       "0   Southern Severe Storms and Flooding (April 1980)          Flooding   \n",
       "1                      Hurricane Allen (August 1980)  Tropical Cyclone   \n",
       "2  Central/Eastern Drought/Heat Wave (Summer-Fall...           Drought   \n",
       "3                      Florida Freeze (January 1981)            Freeze   \n",
       "4  Severe Storms, Flash Floods, Hail, Tornadoes (...      Severe Storm   \n",
       "\n",
       "  Begin Date    End Date  Total loss Cost (Millions of Dollars)  Deaths  \n",
       "0  4/10/1980   4/17/1980                                 2551.4       7  \n",
       "1   8/7/1980   8/11/1980                                 2071.0      13  \n",
       "2   6/1/1980  11/30/1980                                37675.2    1260  \n",
       "3  1/12/1981   1/14/1981                                 1921.9       0  \n",
       "4   5/5/1981   5/10/1981                                 1304.7      20  "
      ]
     },
     "execution_count": 66,
     "metadata": {},
     "output_type": "execute_result"
    }
   ],
   "source": [
    "df.set_index('Name', inplace=False)\n",
    "df.head()"
   ]
  },
  {
   "cell_type": "code",
   "execution_count": null,
   "id": "29aa4ecf-9b6b-4ad4-a863-7b88275c7e62",
   "metadata": {},
   "outputs": [],
   "source": [
    "import pandas as pd"
   ]
  },
  {
   "cell_type": "code",
   "execution_count": 140,
   "id": "421fda67-7e6b-44ea-9df6-af3215880f7c",
   "metadata": {},
   "outputs": [
    {
     "data": {
      "text/html": [
       "<div>\n",
       "<style scoped>\n",
       "    .dataframe tbody tr th:only-of-type {\n",
       "        vertical-align: middle;\n",
       "    }\n",
       "\n",
       "    .dataframe tbody tr th {\n",
       "        vertical-align: top;\n",
       "    }\n",
       "\n",
       "    .dataframe thead th {\n",
       "        text-align: right;\n",
       "    }\n",
       "</style>\n",
       "<table border=\"1\" class=\"dataframe\">\n",
       "  <thead>\n",
       "    <tr style=\"text-align: right;\">\n",
       "      <th></th>\n",
       "      <th>Name</th>\n",
       "      <th>Disaster</th>\n",
       "      <th>Begin Date</th>\n",
       "      <th>End Date</th>\n",
       "      <th>Total loss Cost (Millions of Dollars)</th>\n",
       "      <th>Deaths</th>\n",
       "    </tr>\n",
       "  </thead>\n",
       "  <tbody>\n",
       "    <tr>\n",
       "      <th>0</th>\n",
       "      <td>Southern Severe Storms and Flooding (April 1980)</td>\n",
       "      <td>Flooding</td>\n",
       "      <td>4/10/1980</td>\n",
       "      <td>4/17/1980</td>\n",
       "      <td>2551.4</td>\n",
       "      <td>7</td>\n",
       "    </tr>\n",
       "    <tr>\n",
       "      <th>1</th>\n",
       "      <td>Hurricane Allen (August 1980)</td>\n",
       "      <td>Tropical Cyclone</td>\n",
       "      <td>8/7/1980</td>\n",
       "      <td>8/11/1980</td>\n",
       "      <td>2071.0</td>\n",
       "      <td>13</td>\n",
       "    </tr>\n",
       "    <tr>\n",
       "      <th>2</th>\n",
       "      <td>Central/Eastern Drought/Heat Wave (Summer-Fall...</td>\n",
       "      <td>Drought</td>\n",
       "      <td>6/1/1980</td>\n",
       "      <td>11/30/1980</td>\n",
       "      <td>37675.2</td>\n",
       "      <td>1260</td>\n",
       "    </tr>\n",
       "    <tr>\n",
       "      <th>3</th>\n",
       "      <td>Florida Freeze (January 1981)</td>\n",
       "      <td>Freeze</td>\n",
       "      <td>1/12/1981</td>\n",
       "      <td>1/14/1981</td>\n",
       "      <td>1921.9</td>\n",
       "      <td>0</td>\n",
       "    </tr>\n",
       "    <tr>\n",
       "      <th>4</th>\n",
       "      <td>Severe Storms, Flash Floods, Hail, Tornadoes (...</td>\n",
       "      <td>Severe Storm</td>\n",
       "      <td>5/5/1981</td>\n",
       "      <td>5/10/1981</td>\n",
       "      <td>1304.7</td>\n",
       "      <td>20</td>\n",
       "    </tr>\n",
       "  </tbody>\n",
       "</table>\n",
       "</div>"
      ],
      "text/plain": [
       "                                                Name          Disaster  \\\n",
       "0   Southern Severe Storms and Flooding (April 1980)          Flooding   \n",
       "1                      Hurricane Allen (August 1980)  Tropical Cyclone   \n",
       "2  Central/Eastern Drought/Heat Wave (Summer-Fall...           Drought   \n",
       "3                      Florida Freeze (January 1981)            Freeze   \n",
       "4  Severe Storms, Flash Floods, Hail, Tornadoes (...      Severe Storm   \n",
       "\n",
       "  Begin Date    End Date  Total loss Cost (Millions of Dollars)  Deaths  \n",
       "0  4/10/1980   4/17/1980                                 2551.4       7  \n",
       "1   8/7/1980   8/11/1980                                 2071.0      13  \n",
       "2   6/1/1980  11/30/1980                                37675.2    1260  \n",
       "3  1/12/1981   1/14/1981                                 1921.9       0  \n",
       "4   5/5/1981   5/10/1981                                 1304.7      20  "
      ]
     },
     "execution_count": 140,
     "metadata": {},
     "output_type": "execute_result"
    }
   ],
   "source": [
    "df=pd.read_csv('Am_Disaster_dataset.csv')  \n",
    "df.head()"
   ]
  },
  {
   "cell_type": "code",
   "execution_count": 148,
   "id": "b884cfbe-01b7-47de-8a09-88dcfd21c17b",
   "metadata": {},
   "outputs": [
    {
     "data": {
      "text/html": [
       "<div>\n",
       "<style scoped>\n",
       "    .dataframe tbody tr th:only-of-type {\n",
       "        vertical-align: middle;\n",
       "    }\n",
       "\n",
       "    .dataframe tbody tr th {\n",
       "        vertical-align: top;\n",
       "    }\n",
       "\n",
       "    .dataframe thead th {\n",
       "        text-align: right;\n",
       "    }\n",
       "</style>\n",
       "<table border=\"1\" class=\"dataframe\">\n",
       "  <thead>\n",
       "    <tr style=\"text-align: right;\">\n",
       "      <th></th>\n",
       "      <th>Disaster occur in city</th>\n",
       "      <th>Disaster</th>\n",
       "      <th>Begin Date</th>\n",
       "      <th>End Date</th>\n",
       "      <th>loss</th>\n",
       "      <th>Deaths</th>\n",
       "    </tr>\n",
       "  </thead>\n",
       "  <tbody>\n",
       "    <tr>\n",
       "      <th>0</th>\n",
       "      <td>Southern Severe Storms and Flooding (April 1980)</td>\n",
       "      <td>Flooding</td>\n",
       "      <td>4/10/1980</td>\n",
       "      <td>4/17/1980</td>\n",
       "      <td>2551.4</td>\n",
       "      <td>7</td>\n",
       "    </tr>\n",
       "    <tr>\n",
       "      <th>1</th>\n",
       "      <td>Hurricane Allen (August 1980)</td>\n",
       "      <td>Tropical Cyclone</td>\n",
       "      <td>8/7/1980</td>\n",
       "      <td>8/11/1980</td>\n",
       "      <td>2071.0</td>\n",
       "      <td>13</td>\n",
       "    </tr>\n",
       "    <tr>\n",
       "      <th>2</th>\n",
       "      <td>Central/Eastern Drought/Heat Wave (Summer-Fall...</td>\n",
       "      <td>Drought</td>\n",
       "      <td>6/1/1980</td>\n",
       "      <td>11/30/1980</td>\n",
       "      <td>37675.2</td>\n",
       "      <td>1260</td>\n",
       "    </tr>\n",
       "    <tr>\n",
       "      <th>3</th>\n",
       "      <td>Florida Freeze (January 1981)</td>\n",
       "      <td>Freeze</td>\n",
       "      <td>1/12/1981</td>\n",
       "      <td>1/14/1981</td>\n",
       "      <td>1921.9</td>\n",
       "      <td>0</td>\n",
       "    </tr>\n",
       "    <tr>\n",
       "      <th>4</th>\n",
       "      <td>Severe Storms, Flash Floods, Hail, Tornadoes (...</td>\n",
       "      <td>Severe Storm</td>\n",
       "      <td>5/5/1981</td>\n",
       "      <td>5/10/1981</td>\n",
       "      <td>1304.7</td>\n",
       "      <td>20</td>\n",
       "    </tr>\n",
       "  </tbody>\n",
       "</table>\n",
       "</div>"
      ],
      "text/plain": [
       "                              Disaster occur in city          Disaster  \\\n",
       "0   Southern Severe Storms and Flooding (April 1980)          Flooding   \n",
       "1                      Hurricane Allen (August 1980)  Tropical Cyclone   \n",
       "2  Central/Eastern Drought/Heat Wave (Summer-Fall...           Drought   \n",
       "3                      Florida Freeze (January 1981)            Freeze   \n",
       "4  Severe Storms, Flash Floods, Hail, Tornadoes (...      Severe Storm   \n",
       "\n",
       "  Begin Date    End Date     loss  Deaths  \n",
       "0  4/10/1980   4/17/1980   2551.4       7  \n",
       "1   8/7/1980   8/11/1980   2071.0      13  \n",
       "2   6/1/1980  11/30/1980  37675.2    1260  \n",
       "3  1/12/1981   1/14/1981   1921.9       0  \n",
       "4   5/5/1981   5/10/1981   1304.7      20  "
      ]
     },
     "execution_count": 148,
     "metadata": {},
     "output_type": "execute_result"
    }
   ],
   "source": [
    "df.rename(columns={'Name':'Disaster occur in city','Total loss Cost (Millions of Dollars)':'loss'}, inplace=True)\n",
    "df.head()"
   ]
  },
  {
   "cell_type": "code",
   "execution_count": null,
   "id": "bac57354-5185-4eb2-b282-257e7f8b15b6",
   "metadata": {},
   "outputs": [],
   "source": []
  },
  {
   "cell_type": "code",
   "execution_count": null,
   "id": "0ddde0d9-3be9-4dd8-9e7a-4cca5be9ff56",
   "metadata": {},
   "outputs": [],
   "source": [
    "#USE OF NUMPY"
   ]
  },
  {
   "cell_type": "code",
   "execution_count": 2,
   "id": "ee14e9a2-5e30-4bfe-8a98-4a48360a001e",
   "metadata": {},
   "outputs": [
    {
     "name": "stdout",
     "output_type": "stream",
     "text": [
      "[0 9 7]\n"
     ]
    }
   ],
   "source": [
    "arr=np.array([0,9,7])\n",
    "print(arr)"
   ]
  },
  {
   "cell_type": "code",
   "execution_count": 152,
   "id": "9a1a3882-98d5-4c56-8534-f7a35ebf943a",
   "metadata": {},
   "outputs": [
    {
     "name": "stdout",
     "output_type": "stream",
     "text": [
      "[ 0 18 14]\n"
     ]
    }
   ],
   "source": [
    "print(arr*2)"
   ]
  },
  {
   "cell_type": "code",
   "execution_count": 153,
   "id": "374d785f-599d-4654-a2e5-999b89e3b1e3",
   "metadata": {},
   "outputs": [
    {
     "name": "stdout",
     "output_type": "stream",
     "text": [
      "[  0 729 343]\n"
     ]
    }
   ],
   "source": [
    "print(arr**3)"
   ]
  },
  {
   "cell_type": "code",
   "execution_count": 154,
   "id": "9c7f1623-4a35-4628-a256-2cb1f2ea084d",
   "metadata": {},
   "outputs": [
    {
     "name": "stdout",
     "output_type": "stream",
     "text": [
      "[[0. 0.]\n",
      " [0. 0.]\n",
      " [0. 0.]]\n"
     ]
    }
   ],
   "source": [
    "arr=np.zeros((3,2))\n",
    "print(arr)"
   ]
  },
  {
   "cell_type": "code",
   "execution_count": 159,
   "id": "e1fed257-17dc-422a-850c-94d8dd4404bc",
   "metadata": {},
   "outputs": [
    {
     "name": "stdout",
     "output_type": "stream",
     "text": [
      "[[1. 1.]\n",
      " [1. 1.]]\n"
     ]
    }
   ],
   "source": [
    "arr=np.ones((2,2))\n",
    "print(arr)"
   ]
  },
  {
   "cell_type": "code",
   "execution_count": 163,
   "id": "06d70e8f-b00b-45f0-b94b-727715601881",
   "metadata": {},
   "outputs": [
    {
     "name": "stdout",
     "output_type": "stream",
     "text": [
      "[[1. 0. 0.]\n",
      " [0. 1. 0.]\n",
      " [0. 0. 1.]]\n"
     ]
    }
   ],
   "source": [
    "arr=np.eye(3)\n",
    "print(arr)"
   ]
  },
  {
   "cell_type": "code",
   "execution_count": 164,
   "id": "833d24dd-d246-4932-9fe1-61e841423573",
   "metadata": {},
   "outputs": [
    {
     "name": "stdout",
     "output_type": "stream",
     "text": [
      "[0 1 2 3 4 5 6 7 8 9]\n"
     ]
    }
   ],
   "source": [
    "arr=np.arange(0,10)\n",
    "print(arr)"
   ]
  },
  {
   "cell_type": "code",
   "execution_count": 165,
   "id": "d68bdbd9-ae0b-462e-859e-ad6cd3d52d6b",
   "metadata": {},
   "outputs": [
    {
     "name": "stdout",
     "output_type": "stream",
     "text": [
      "[0 3 6 9]\n"
     ]
    }
   ],
   "source": [
    "arr=np.arange(0,10,3)\n",
    "print(arr)"
   ]
  },
  {
   "cell_type": "code",
   "execution_count": 172,
   "id": "921a7a91-5c9e-4ada-9946-97b8933ba181",
   "metadata": {},
   "outputs": [
    {
     "name": "stdout",
     "output_type": "stream",
     "text": [
      "[[ 3  5]\n",
      " [10  9]\n",
      " [ 3  9]]\n"
     ]
    }
   ],
   "source": [
    "arr=np.random.randint(1,11,(3,2))\n",
    "print(arr)"
   ]
  },
  {
   "cell_type": "code",
   "execution_count": 187,
   "id": "8670b4bc-efa6-4469-9039-26a6e2f31586",
   "metadata": {},
   "outputs": [
    {
     "name": "stdout",
     "output_type": "stream",
     "text": [
      "3\n"
     ]
    }
   ],
   "source": [
    "arr=np.array([1,3,5])\n",
    "print(arr[1])"
   ]
  },
  {
   "cell_type": "code",
   "execution_count": 33,
   "id": "80e7ab21-4f2c-419c-a9ac-ba2006c10fa9",
   "metadata": {},
   "outputs": [
    {
     "name": "stdout",
     "output_type": "stream",
     "text": [
      "9\n"
     ]
    }
   ],
   "source": [
    "arr=np.array([[1,3,5],[6,9,3]])\n",
    "print(arr[1][1])"
   ]
  },
  {
   "cell_type": "code",
   "execution_count": 189,
   "id": "6e6b5a82-3d81-4d1e-aeac-3dfb1918d08c",
   "metadata": {},
   "outputs": [
    {
     "name": "stdout",
     "output_type": "stream",
     "text": [
      "3 6 9\n"
     ]
    }
   ],
   "source": [
    "arr2d=np.array([[1, 2, 3], [4, 5, 6], [7, 8, 9]])\n",
    "print(arr2d[0,2],arr2d[1,2],arr2d[2,2])\n"
   ]
  },
  {
   "cell_type": "code",
   "execution_count": 190,
   "id": "3cb973b5-c49e-46e1-8f47-c8a391bc3d0e",
   "metadata": {},
   "outputs": [
    {
     "name": "stdout",
     "output_type": "stream",
     "text": [
      "[5 6]\n"
     ]
    }
   ],
   "source": [
    "arr2d=np.array([[1, 2, 3], [4, 5, 6], [7, 8, 9]])\n",
    "print(arr2d[1,1:3])"
   ]
  },
  {
   "cell_type": "code",
   "execution_count": 34,
   "id": "c9114e41-a78c-4517-b652-07d2b93de734",
   "metadata": {},
   "outputs": [
    {
     "name": "stdout",
     "output_type": "stream",
     "text": [
      "[[ 1  1 -1]\n",
      " [ 1 -1  5]]\n"
     ]
    }
   ],
   "source": [
    "ar=np.array([[2,4,6],[5,8,9]])\n",
    "arr=np.array([[1,3,7],[4,9,4]])\n",
    "print(ar-arr)"
   ]
  },
  {
   "cell_type": "code",
   "execution_count": null,
   "id": "816782c2-0fa5-4fdc-9a45-7d5fb9b15af7",
   "metadata": {},
   "outputs": [],
   "source": []
  },
  {
   "cell_type": "code",
   "execution_count": null,
   "id": "43771a81-a953-41d2-a051-7250e389db78",
   "metadata": {},
   "outputs": [],
   "source": [
    "#USE OF MATPLOTLIB"
   ]
  },
  {
   "cell_type": "code",
   "execution_count": 49,
   "id": "e99378e2-5e2e-4c45-aaf0-f9fdfb94a5b6",
   "metadata": {},
   "outputs": [
    {
     "data": {
      "image/png": "[encoded data removed]",
      "text/plain": [
       "<Figure size 640x480 with 1 Axes>"
      ]
     },
     "metadata": {},
     "output_type": "display_data"
    }
   ],
   "source": [
    "plt.plot(df[['Total loss Cost (Millions of Dollars)','Deaths']],color='red', linestyle='dashed', linewidth = 3, \n",
    "         marker='o', markerfacecolor='black', markersize=12)\n",
    "plt.ylabel('Total loss Cost (Millions of Dollars)')\n",
    "plt.xlabel('Deaths')\n",
    "plt.title('Graph of Deaths and loss of cost')\n",
    "plt.show()"
   ]
  },
  {
   "cell_type": "code",
   "execution_count": null,
   "id": "d759b92a-9638-4c41-aaa2-a5623700cf86",
   "metadata": {},
   "outputs": [],
   "source": []
  },
  {
   "cell_type": "code",
   "execution_count": 64,
   "id": "ddb644a2-c9e3-474f-b7e4-5abf5e3be18a",
   "metadata": {},
   "outputs": [
    {
     "data": {
      "image/png": "[encoded data removed]",
      "text/plain": [
       "<Figure size 640x480 with 1 Axes>"
      ]
     },
     "metadata": {},
     "output_type": "display_data"
    }
   ],
   "source": [
    "values=df.Disaster\n",
    "D=df.Deaths\n",
    "plt.bar(values,D, color='yellow')\n",
    "plt.ylabel('Deaths')\n",
    "plt.xlabel('Disasters')\n",
    "plt.title('Graph of Deaths Occurs on Disasters')\n",
    "plt.show()"
   ]
  },
  {
   "cell_type": "code",
   "execution_count": 123,
   "id": "defd9863-c257-4fff-b365-13606c4aea0e",
   "metadata": {},
   "outputs": [
    {
     "data": {
      "text/html": [
       "<div>\n",
       "<style scoped>\n",
       "    .dataframe tbody tr th:only-of-type {\n",
       "        vertical-align: middle;\n",
       "    }\n",
       "\n",
       "    .dataframe tbody tr th {\n",
       "        vertical-align: top;\n",
       "    }\n",
       "\n",
       "    .dataframe thead th {\n",
       "        text-align: right;\n",
       "    }\n",
       "</style>\n",
       "<table border=\"1\" class=\"dataframe\">\n",
       "  <thead>\n",
       "    <tr style=\"text-align: right;\">\n",
       "      <th></th>\n",
       "      <th>Name</th>\n",
       "      <th>Disaster</th>\n",
       "      <th>Begin Date</th>\n",
       "      <th>End Date</th>\n",
       "      <th>Total loss Cost (Millions of Dollars)</th>\n",
       "      <th>Deaths</th>\n",
       "      <th>Budget_asset</th>\n",
       "    </tr>\n",
       "  </thead>\n",
       "  <tbody>\n",
       "    <tr>\n",
       "      <th>0</th>\n",
       "      <td>Colorado Hail Storms (June 2004)</td>\n",
       "      <td>Severe Storm</td>\n",
       "      <td>20040608</td>\n",
       "      <td>20040609</td>\n",
       "      <td>1070.3</td>\n",
       "      <td>0</td>\n",
       "      <td>1200.0</td>\n",
       "    </tr>\n",
       "    <tr>\n",
       "      <th>1</th>\n",
       "      <td>North Central Severe Weather and Tornadoes (Au...</td>\n",
       "      <td>Severe Storm</td>\n",
       "      <td>20060823</td>\n",
       "      <td>20060824</td>\n",
       "      <td>1085.5</td>\n",
       "      <td>1</td>\n",
       "      <td>1500.0</td>\n",
       "    </tr>\n",
       "    <tr>\n",
       "      <th>2</th>\n",
       "      <td>Hurricane Nicholas (September 2021)</td>\n",
       "      <td>Tropical Cyclone</td>\n",
       "      <td>20210914</td>\n",
       "      <td>20210918</td>\n",
       "      <td>1087.2</td>\n",
       "      <td>0</td>\n",
       "      <td>2000.0</td>\n",
       "    </tr>\n",
       "    <tr>\n",
       "      <th>3</th>\n",
       "      <td>Northeast Winter Storm (February 2010)</td>\n",
       "      <td>Winter Storm</td>\n",
       "      <td>20100209</td>\n",
       "      <td>20100211</td>\n",
       "      <td>1103.1</td>\n",
       "      <td>3</td>\n",
       "      <td>2600.0</td>\n",
       "    </tr>\n",
       "    <tr>\n",
       "      <th>4</th>\n",
       "      <td>Texas Hail Storm (April 1995)</td>\n",
       "      <td>Severe Storm</td>\n",
       "      <td>19950428</td>\n",
       "      <td>19950428</td>\n",
       "      <td>1104.0</td>\n",
       "      <td>0</td>\n",
       "      <td>2900.0</td>\n",
       "    </tr>\n",
       "    <tr>\n",
       "      <th>5</th>\n",
       "      <td>North Central Severe Weather (May 2001)</td>\n",
       "      <td>Severe Storm</td>\n",
       "      <td>20010430</td>\n",
       "      <td>20010501</td>\n",
       "      <td>1107.3</td>\n",
       "      <td>0</td>\n",
       "      <td>3100.0</td>\n",
       "    </tr>\n",
       "    <tr>\n",
       "      <th>6</th>\n",
       "      <td>Colorado Hail Storm (June 2018)</td>\n",
       "      <td>Severe Storm</td>\n",
       "      <td>20180613</td>\n",
       "      <td>20180613</td>\n",
       "      <td>1107.8</td>\n",
       "      <td>0</td>\n",
       "      <td>3210.0</td>\n",
       "    </tr>\n",
       "    <tr>\n",
       "      <th>7</th>\n",
       "      <td>Central Severe Weather (May 2019)</td>\n",
       "      <td>Severe Storm</td>\n",
       "      <td>20190516</td>\n",
       "      <td>20190518</td>\n",
       "      <td>1109.2</td>\n",
       "      <td>0</td>\n",
       "      <td>3540.0</td>\n",
       "    </tr>\n",
       "    <tr>\n",
       "      <th>8</th>\n",
       "      <td>North Central Severe Weather and Tornadoes (Ma...</td>\n",
       "      <td>Severe Storm</td>\n",
       "      <td>20170515</td>\n",
       "      <td>20170518</td>\n",
       "      <td>1120.0</td>\n",
       "      <td>1</td>\n",
       "      <td>3960.0</td>\n",
       "    </tr>\n",
       "    <tr>\n",
       "      <th>9</th>\n",
       "      <td>Central Severe Weather (April 2014)</td>\n",
       "      <td>Severe Storm</td>\n",
       "      <td>20140412</td>\n",
       "      <td>20140413</td>\n",
       "      <td>1129.3</td>\n",
       "      <td>0</td>\n",
       "      <td>4300.0</td>\n",
       "    </tr>\n",
       "    <tr>\n",
       "      <th>10</th>\n",
       "      <td>Southern and Central Severe Weather (May 2022)</td>\n",
       "      <td>Severe Storm</td>\n",
       "      <td>20220501</td>\n",
       "      <td>20220503</td>\n",
       "      <td>1139.0</td>\n",
       "      <td>1</td>\n",
       "      <td>4567.0</td>\n",
       "    </tr>\n",
       "    <tr>\n",
       "      <th>11</th>\n",
       "      <td>North Central Severe Weather (July 2011)</td>\n",
       "      <td>Severe Storm</td>\n",
       "      <td>20110701</td>\n",
       "      <td>20110701</td>\n",
       "      <td>1145.6</td>\n",
       "      <td>0</td>\n",
       "      <td>4800.0</td>\n",
       "    </tr>\n",
       "    <tr>\n",
       "      <th>12</th>\n",
       "      <td>Colorado Hail Storms (July 2019)</td>\n",
       "      <td>Severe Storm</td>\n",
       "      <td>20190704</td>\n",
       "      <td>20190705</td>\n",
       "      <td>1149.1</td>\n",
       "      <td>0</td>\n",
       "      <td>5000.0</td>\n",
       "    </tr>\n",
       "    <tr>\n",
       "      <th>13</th>\n",
       "      <td>Central Severe Storms (July 2021)</td>\n",
       "      <td>Severe Storm</td>\n",
       "      <td>20210708</td>\n",
       "      <td>20210711</td>\n",
       "      <td>1155.8</td>\n",
       "      <td>0</td>\n",
       "      <td>5333.0</td>\n",
       "    </tr>\n",
       "    <tr>\n",
       "      <th>14</th>\n",
       "      <td>Eastern Tornadoes and Severe Storms (November ...</td>\n",
       "      <td>Severe Storm</td>\n",
       "      <td>20021109</td>\n",
       "      <td>20021111</td>\n",
       "      <td>1159.2</td>\n",
       "      <td>28</td>\n",
       "      <td>5549.5</td>\n",
       "    </tr>\n",
       "    <tr>\n",
       "      <th>15</th>\n",
       "      <td>Southern Severe Weather (February 2013)</td>\n",
       "      <td>Severe Storm</td>\n",
       "      <td>20130224</td>\n",
       "      <td>20130225</td>\n",
       "      <td>1161.7</td>\n",
       "      <td>1</td>\n",
       "      <td>5799.3</td>\n",
       "    </tr>\n",
       "    <tr>\n",
       "      <th>16</th>\n",
       "      <td>South and Southeast Severe Weather (April 2015)</td>\n",
       "      <td>Severe Storm</td>\n",
       "      <td>20150424</td>\n",
       "      <td>20150425</td>\n",
       "      <td>1170.6</td>\n",
       "      <td>3</td>\n",
       "      <td>6049.1</td>\n",
       "    </tr>\n",
       "    <tr>\n",
       "      <th>17</th>\n",
       "      <td>Central, Southern and Eastern Severe Weather (...</td>\n",
       "      <td>Severe Storm</td>\n",
       "      <td>20200427</td>\n",
       "      <td>20200430</td>\n",
       "      <td>1170.7</td>\n",
       "      <td>1</td>\n",
       "      <td>6298.9</td>\n",
       "    </tr>\n",
       "    <tr>\n",
       "      <th>18</th>\n",
       "      <td>Southeast Severe Weather and Tornadoes (April ...</td>\n",
       "      <td>Severe Storm</td>\n",
       "      <td>20170404</td>\n",
       "      <td>20170406</td>\n",
       "      <td>1171.2</td>\n",
       "      <td>1</td>\n",
       "      <td>6548.7</td>\n",
       "    </tr>\n",
       "    <tr>\n",
       "      <th>19</th>\n",
       "      <td>Central Derecho and Tornadoes (May 2009)</td>\n",
       "      <td>Severe Storm</td>\n",
       "      <td>20090507</td>\n",
       "      <td>20090509</td>\n",
       "      <td>1179.7</td>\n",
       "      <td>7</td>\n",
       "      <td>6798.5</td>\n",
       "    </tr>\n",
       "  </tbody>\n",
       "</table>\n",
       "</div>"
      ],
      "text/plain": [
       "                                                 Name          Disaster  \\\n",
       "0                    Colorado Hail Storms (June 2004)      Severe Storm   \n",
       "1   North Central Severe Weather and Tornadoes (Au...      Severe Storm   \n",
       "2                 Hurricane Nicholas (September 2021)  Tropical Cyclone   \n",
       "3              Northeast Winter Storm (February 2010)      Winter Storm   \n",
       "4                       Texas Hail Storm (April 1995)      Severe Storm   \n",
       "5             North Central Severe Weather (May 2001)      Severe Storm   \n",
       "6                     Colorado Hail Storm (June 2018)      Severe Storm   \n",
       "7                   Central Severe Weather (May 2019)      Severe Storm   \n",
       "8   North Central Severe Weather and Tornadoes (Ma...      Severe Storm   \n",
       "9                 Central Severe Weather (April 2014)      Severe Storm   \n",
       "10     Southern and Central Severe Weather (May 2022)      Severe Storm   \n",
       "11           North Central Severe Weather (July 2011)      Severe Storm   \n",
       "12                   Colorado Hail Storms (July 2019)      Severe Storm   \n",
       "13                  Central Severe Storms (July 2021)      Severe Storm   \n",
       "14  Eastern Tornadoes and Severe Storms (November ...      Severe Storm   \n",
       "15            Southern Severe Weather (February 2013)      Severe Storm   \n",
       "16    South and Southeast Severe Weather (April 2015)      Severe Storm   \n",
       "17  Central, Southern and Eastern Severe Weather (...      Severe Storm   \n",
       "18  Southeast Severe Weather and Tornadoes (April ...      Severe Storm   \n",
       "19           Central Derecho and Tornadoes (May 2009)      Severe Storm   \n",
       "\n",
       "   Begin Date  End Date  Total loss Cost (Millions of Dollars)  Deaths  \\\n",
       "0    20040608  20040609                                 1070.3       0   \n",
       "1    20060823  20060824                                 1085.5       1   \n",
       "2    20210914  20210918                                 1087.2       0   \n",
       "3    20100209  20100211                                 1103.1       3   \n",
       "4    19950428  19950428                                 1104.0       0   \n",
       "5    20010430  20010501                                 1107.3       0   \n",
       "6    20180613  20180613                                 1107.8       0   \n",
       "7    20190516  20190518                                 1109.2       0   \n",
       "8    20170515  20170518                                 1120.0       1   \n",
       "9    20140412  20140413                                 1129.3       0   \n",
       "10   20220501  20220503                                 1139.0       1   \n",
       "11   20110701  20110701                                 1145.6       0   \n",
       "12   20190704  20190705                                 1149.1       0   \n",
       "13   20210708  20210711                                 1155.8       0   \n",
       "14   20021109  20021111                                 1159.2      28   \n",
       "15   20130224  20130225                                 1161.7       1   \n",
       "16   20150424  20150425                                 1170.6       3   \n",
       "17   20200427  20200430                                 1170.7       1   \n",
       "18   20170404  20170406                                 1171.2       1   \n",
       "19   20090507  20090509                                 1179.7       7   \n",
       "\n",
       "    Budget_asset  \n",
       "0         1200.0  \n",
       "1         1500.0  \n",
       "2         2000.0  \n",
       "3         2600.0  \n",
       "4         2900.0  \n",
       "5         3100.0  \n",
       "6         3210.0  \n",
       "7         3540.0  \n",
       "8         3960.0  \n",
       "9         4300.0  \n",
       "10        4567.0  \n",
       "11        4800.0  \n",
       "12        5000.0  \n",
       "13        5333.0  \n",
       "14        5549.5  \n",
       "15        5799.3  \n",
       "16        6049.1  \n",
       "17        6298.9  \n",
       "18        6548.7  \n",
       "19        6798.5  "
      ]
     },
     "execution_count": 123,
     "metadata": {},
     "output_type": "execute_result"
    }
   ],
   "source": [
    "df=pd.read_csv('Ame_Disaster.csv')\n",
    "df.head(20)"
   ]
  },
  {
   "cell_type": "code",
   "execution_count": null,
   "id": "706363ad-1ac0-425a-92c2-1e5911f2b16b",
   "metadata": {},
   "outputs": [],
   "source": []
  },
  {
   "cell_type": "code",
   "execution_count": null,
   "id": "1dbe9bf3-0269-4210-aabf-80a641128f92",
   "metadata": {},
   "outputs": [],
   "source": [
    "#USE OF LINEAR REGRESSION"
   ]
  },
  {
   "cell_type": "code",
   "execution_count": 130,
   "id": "4159a91d-27d3-438f-be6b-df470ed03b57",
   "metadata": {},
   "outputs": [
    {
     "data": {
      "image/png": "[encoded data removed]",
      "text/plain": [
       "<Figure size 640x480 with 1 Axes>"
      ]
     },
     "metadata": {},
     "output_type": "display_data"
    }
   ],
   "source": [
    "plt.scatter(df['Budget_asset'],df['Total loss Cost (Millions of Dollars)'], color = 'lightcoral')\n",
    "plt.plot(df['Budget_asset'], df['Total loss Cost (Millions of Dollars)'] , color = 'firebrick')\n",
    "plt.title('loss of money vs Budget')\n",
    "plt.xlabel('Budget_asset')\n",
    "plt.ylabel('Total loss Cost (Millions of Dollars)')\n",
    "plt.box(True)\n",
    "plt.show()"
   ]
  },
  {
   "cell_type": "code",
   "execution_count": null,
   "id": "50162529-4078-4530-a0c2-82acb395aed9",
   "metadata": {},
   "outputs": [],
   "source": []
  },
  {
   "cell_type": "code",
   "execution_count": null,
   "id": "632d6426-d87d-4c4a-9909-47e83355dcce",
   "metadata": {},
   "outputs": [],
   "source": []
  },
  {
   "cell_type": "code",
   "execution_count": null,
   "id": "ab39bc14-1947-4c5e-84f3-177124fd1595",
   "metadata": {},
   "outputs": [],
   "source": [
    "\n"
   ]
  },
  {
   "cell_type": "code",
   "execution_count": null,
   "id": "8fd3ea2b-5347-49ea-bd81-8acc75bb3ae0",
   "metadata": {},
   "outputs": [],
   "source": []
  }
 ],
 "metadata": {
  "kernelspec": {
   "display_name": "Python 3 (ipykernel)",
   "language": "python",
   "name": "python3"
  },
  "language_info": {
   "codemirror_mode": {
    "name": "ipython",
    "version": 3
   },
   "file_extension": ".py",
   "mimetype": "text/x-python",
   "name": "python",
   "nbconvert_exporter": "python",
   "pygments_lexer": "ipython3",
   "version": "3.11.7"
  }
 },
 "nbformat": 4,
 "nbformat_minor": 5
}
